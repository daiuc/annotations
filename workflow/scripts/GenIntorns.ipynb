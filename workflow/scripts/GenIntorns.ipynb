{
 "cells": [
  {
   "cell_type": "code",
   "execution_count": 5,
   "id": "b7d4f454-19b5-420e-acc9-0c4290b07f47",
   "metadata": {},
   "outputs": [],
   "source": [
    "import os\n",
    "import gzip\n",
    "import pybedtools as pb"
   ]
  },
  {
   "cell_type": "code",
   "execution_count": 50,
   "id": "f0df784f-8170-4579-9d8c-73b6bb718495",
   "metadata": {},
   "outputs": [],
   "source": [
    "gtf = '../../test.gtf.gz'"
   ]
  },
  {
   "cell_type": "code",
   "execution_count": 51,
   "id": "11b5e13e-e61c-48a1-81e6-162586e9048a",
   "metadata": {},
   "outputs": [
    {
     "name": "stdout",
     "output_type": "stream",
     "text": [
      "##description: evidence-based annotation of the human genome (GRCh38), version 43 (Ensembl 109)\n",
      "##provider: GENCODE\n",
      "##contact: gencode-help@ebi.ac.uk\n",
      "##format: gtf\n",
      "##date: 2022-11-29\n",
      "chr1\tHAVANA\tgene\t11869\t14409\t.\t+\t.\tgene_id \"ENSG00000290825.1\"; gene_type \"lncRNA\"; gene_name \"DDX11L2\"; level 2; tag \"overlaps_pseudogene\";\n",
      "chr1\tHAVANA\ttranscript\t11869\t14409\t.\t+\t.\tgene_id \"ENSG00000290825.1\"; transcript_id \"ENST00000456328.2\"; gene_type \"lncRNA\"; gene_name \"DDX11L2\"; transcript_type \"lncRNA\"; transcript_name \"DDX11L2-202\"; level 2; transcript_support_level \"1\"; tag \"basic\"; tag \"Ensembl_canonical\"; havana_transcript \"OTTHUMT00000362751.1\";\n",
      "chr1\tHAVANA\texon\t11869\t12227\t.\t+\t.\tgene_id \"ENSG00000290825.1\"; transcript_id \"ENST00000456328.2\"; gene_type \"lncRNA\"; gene_name \"DDX11L2\"; transcript_type \"lncRNA\"; transcript_name \"DDX11L2-202\"; exon_number 1; exon_id \"ENSE00002234944.1\"; level 2; transcript_support_level \"1\"; tag \"basic\"; tag \"Ensembl_canonical\"; havana_transcript \"OTTHUMT00000362751.1\";\n",
      "chr1\tHAVANA\texon\t12613\t12721\t.\t+\t.\tgene_id \"ENSG00000290825.1\"; transcript_id \"ENST00000456328.2\"; gene_type \"lncRNA\"; gene_name \"DDX11L2\"; transcript_type \"lncRNA\"; transcript_name \"DDX11L2-202\"; exon_number 2; exon_id \"ENSE00003582793.1\"; level 2; transcript_support_level \"1\"; tag \"basic\"; tag \"Ensembl_canonical\"; havana_transcript \"OTTHUMT00000362751.1\";\n",
      "chr1\tHAVANA\texon\t13221\t14409\t.\t+\t.\tgene_id \"ENSG00000290825.1\"; transcript_id \"ENST00000456328.2\"; gene_type \"lncRNA\"; gene_name \"DDX11L2\"; transcript_type \"lncRNA\"; transcript_name \"DDX11L2-202\"; exon_number 3; exon_id \"ENSE00002312635.1\"; level 2; transcript_support_level \"1\"; tag \"basic\"; tag \"Ensembl_canonical\"; havana_transcript \"OTTHUMT00000362751.1\";\n"
     ]
    }
   ],
   "source": [
    "with gzip.open(gtf) as g:\n",
    "    i = 0\n",
    "    for ln in g:\n",
    "        ln = ln.decode().strip()\n",
    "        \n",
    "        if i < 10:\n",
    "            print(ln)\n",
    "        \n",
    "        i += 1"
   ]
  },
  {
   "cell_type": "code",
   "execution_count": 56,
   "id": "98587910-a8c1-4d04-b2c2-d43264b576e9",
   "metadata": {},
   "outputs": [
    {
     "name": "stdout",
     "output_type": "stream",
     "text": [
      "['chr1', 'HAVANA', 'gene', '11869', '14409', '.', '+', '.', 'gene_id \"ENSG00000290825.1\"; gene_type \"lncRNA\"; gene_name \"DDX11L2\"; level 2; tag \"overlaps_pseudogene\";']\n",
      "['chr1', 'HAVANA', 'transcript', '11869', '14409', '.', '+', '.', 'gene_id \"ENSG00000290825.1\"; transcript_id \"ENST00000456328.2\"; gene_type \"lncRNA\"; gene_name \"DDX11L2\"; transcript_type \"lncRNA\"; transcript_name \"DDX11L2-202\"; level 2; transcript_support_level \"1\"; tag \"basic\"; tag \"Ensembl_canonical\"; havana_transcript \"OTTHUMT00000362751.1\";']\n",
      "['chr1', 'HAVANA', 'exon', '11869', '12227', '.', '+', '.', 'gene_id \"ENSG00000290825.1\"; transcript_id \"ENST00000456328.2\"; gene_type \"lncRNA\"; gene_name \"DDX11L2\"; transcript_type \"lncRNA\"; transcript_name \"DDX11L2-202\"; exon_number 1; exon_id \"ENSE00002234944.1\"; level 2; transcript_support_level \"1\"; tag \"basic\"; tag \"Ensembl_canonical\"; havana_transcript \"OTTHUMT00000362751.1\";']\n",
      "['chr1', 'HAVANA', 'exon', '12613', '12721', '.', '+', '.', 'gene_id \"ENSG00000290825.1\"; transcript_id \"ENST00000456328.2\"; gene_type \"lncRNA\"; gene_name \"DDX11L2\"; transcript_type \"lncRNA\"; transcript_name \"DDX11L2-202\"; exon_number 2; exon_id \"ENSE00003582793.1\"; level 2; transcript_support_level \"1\"; tag \"basic\"; tag \"Ensembl_canonical\"; havana_transcript \"OTTHUMT00000362751.1\";']\n",
      "['chr1', 'HAVANA', 'exon', '13221', '14409', '.', '+', '.', 'gene_id \"ENSG00000290825.1\"; transcript_id \"ENST00000456328.2\"; gene_type \"lncRNA\"; gene_name \"DDX11L2\"; transcript_type \"lncRNA\"; transcript_name \"DDX11L2-202\"; exon_number 3; exon_id \"ENSE00002312635.1\"; level 2; transcript_support_level \"1\"; tag \"basic\"; tag \"Ensembl_canonical\"; havana_transcript \"OTTHUMT00000362751.1\";']\n"
     ]
    }
   ],
   "source": [
    "with gzip.open(gtf) as g:\n",
    "    i = 0\n",
    "    genes = []\n",
    "    transcripts = []\n",
    "    exons = []\n",
    "    for ln in g:\n",
    "        ln = ln.decode().strip()\n",
    "        \n",
    "        if i < 10 and not ln.startswith('#'):\n",
    "            ln_split = ln.split('\\t')\n",
    "            print(ln_split)\n",
    "            \n",
    "            if ln_split[2] == 'gene':\n",
    "                genes.append(ln_split)\n",
    "            elif ln_split[2] == 'transcript':\n",
    "                transcripts.append(ln_split)\n",
    "            elif ln_split[2] == 'exon':\n",
    "                exons.append(ln_split)\n",
    "            \n",
    "        \n",
    "        i += 1"
   ]
  },
  {
   "cell_type": "code",
   "execution_count": 57,
   "id": "89174410-ce53-41cc-89d9-ea5cccb7da72",
   "metadata": {},
   "outputs": [
    {
     "data": {
      "text/plain": [
       "[['chr1',\n",
       "  'HAVANA',\n",
       "  'gene',\n",
       "  '11869',\n",
       "  '14409',\n",
       "  '.',\n",
       "  '+',\n",
       "  '.',\n",
       "  'gene_id \"ENSG00000290825.1\"; gene_type \"lncRNA\"; gene_name \"DDX11L2\"; level 2; tag \"overlaps_pseudogene\";']]"
      ]
     },
     "execution_count": 57,
     "metadata": {},
     "output_type": "execute_result"
    }
   ],
   "source": [
    "genes"
   ]
  },
  {
   "cell_type": "code",
   "execution_count": 58,
   "id": "fd12fc88-b69d-4a39-bdca-d68ee5587efa",
   "metadata": {},
   "outputs": [
    {
     "data": {
      "text/plain": [
       "[['chr1',\n",
       "  'HAVANA',\n",
       "  'transcript',\n",
       "  '11869',\n",
       "  '14409',\n",
       "  '.',\n",
       "  '+',\n",
       "  '.',\n",
       "  'gene_id \"ENSG00000290825.1\"; transcript_id \"ENST00000456328.2\"; gene_type \"lncRNA\"; gene_name \"DDX11L2\"; transcript_type \"lncRNA\"; transcript_name \"DDX11L2-202\"; level 2; transcript_support_level \"1\"; tag \"basic\"; tag \"Ensembl_canonical\"; havana_transcript \"OTTHUMT00000362751.1\";']]"
      ]
     },
     "execution_count": 58,
     "metadata": {},
     "output_type": "execute_result"
    }
   ],
   "source": [
    "transcripts"
   ]
  },
  {
   "cell_type": "code",
   "execution_count": 59,
   "id": "a4419704-d9a9-4228-b162-fa7e6d3612d6",
   "metadata": {},
   "outputs": [
    {
     "data": {
      "text/plain": [
       "[['chr1',\n",
       "  'HAVANA',\n",
       "  'exon',\n",
       "  '11869',\n",
       "  '12227',\n",
       "  '.',\n",
       "  '+',\n",
       "  '.',\n",
       "  'gene_id \"ENSG00000290825.1\"; transcript_id \"ENST00000456328.2\"; gene_type \"lncRNA\"; gene_name \"DDX11L2\"; transcript_type \"lncRNA\"; transcript_name \"DDX11L2-202\"; exon_number 1; exon_id \"ENSE00002234944.1\"; level 2; transcript_support_level \"1\"; tag \"basic\"; tag \"Ensembl_canonical\"; havana_transcript \"OTTHUMT00000362751.1\";'],\n",
       " ['chr1',\n",
       "  'HAVANA',\n",
       "  'exon',\n",
       "  '12613',\n",
       "  '12721',\n",
       "  '.',\n",
       "  '+',\n",
       "  '.',\n",
       "  'gene_id \"ENSG00000290825.1\"; transcript_id \"ENST00000456328.2\"; gene_type \"lncRNA\"; gene_name \"DDX11L2\"; transcript_type \"lncRNA\"; transcript_name \"DDX11L2-202\"; exon_number 2; exon_id \"ENSE00003582793.1\"; level 2; transcript_support_level \"1\"; tag \"basic\"; tag \"Ensembl_canonical\"; havana_transcript \"OTTHUMT00000362751.1\";'],\n",
       " ['chr1',\n",
       "  'HAVANA',\n",
       "  'exon',\n",
       "  '13221',\n",
       "  '14409',\n",
       "  '.',\n",
       "  '+',\n",
       "  '.',\n",
       "  'gene_id \"ENSG00000290825.1\"; transcript_id \"ENST00000456328.2\"; gene_type \"lncRNA\"; gene_name \"DDX11L2\"; transcript_type \"lncRNA\"; transcript_name \"DDX11L2-202\"; exon_number 3; exon_id \"ENSE00002312635.1\"; level 2; transcript_support_level \"1\"; tag \"basic\"; tag \"Ensembl_canonical\"; havana_transcript \"OTTHUMT00000362751.1\";']]"
      ]
     },
     "execution_count": 59,
     "metadata": {},
     "output_type": "execute_result"
    }
   ],
   "source": [
    "exons"
   ]
  },
  {
   "cell_type": "code",
   "execution_count": 60,
   "id": "4e32f6f8-c385-4205-8bf6-66dc62bbe023",
   "metadata": {},
   "outputs": [
    {
     "ename": "SyntaxError",
     "evalue": "invalid syntax (3659710341.py, line 1)",
     "output_type": "error",
     "traceback": [
      "\u001b[0;36m  Cell \u001b[0;32mIn[60], line 1\u001b[0;36m\u001b[0m\n\u001b[0;31m    awk -F \"\\t\" '$1 !~ /^#/ && $3 ~ /(transcript)|(exon)/ && $9 ~ /transcript_type \\\"protein_coding\\\"/ && \\\u001b[0m\n\u001b[0m           ^\u001b[0m\n\u001b[0;31mSyntaxError\u001b[0m\u001b[0;31m:\u001b[0m invalid syntax\n"
     ]
    }
   ],
   "source": [
    "awk -F \"\\t\" '$1 !~ /^#/ && $3 ~ /(transcript)|(exon)/ && $9 ~ /transcript_type \\\"protein_coding\\\"/ && \\\n",
    "                        $9 ~ /(tag \\\"basic\\\")|(tag \\\"mRNA_start_NF\\\")|(tag \\\"mRNA_end_NF\\\")|(tag \\\"cds_start_NF\\\")|(tag \\\"cds_end_NF\\\")/ \n",
    "                        {{print $0}}' <(zcat test.gtf.gz) \\\n",
    "                        head\n",
    "    \n",
    "    "
   ]
  },
  {
   "cell_type": "code",
   "execution_count": null,
   "id": "148d5ebe-6dd5-44e3-b4b9-dfb36cfc34c5",
   "metadata": {},
   "outputs": [],
   "source": []
  },
  {
   "cell_type": "code",
   "execution_count": null,
   "id": "4df1909b-6fcc-48b8-a07d-d3989599323a",
   "metadata": {},
   "outputs": [],
   "source": []
  },
  {
   "cell_type": "code",
   "execution_count": null,
   "id": "1bee1e55-4a29-4be4-89f5-582fcf9b3679",
   "metadata": {},
   "outputs": [],
   "source": []
  }
 ],
 "metadata": {
  "kernelspec": {
   "display_name": "Python 3 (ipykernel)",
   "language": "python",
   "name": "python3"
  },
  "language_info": {
   "codemirror_mode": {
    "name": "ipython",
    "version": 3
   },
   "file_extension": ".py",
   "mimetype": "text/x-python",
   "name": "python",
   "nbconvert_exporter": "python",
   "pygments_lexer": "ipython3",
   "version": "3.9.7"
  }
 },
 "nbformat": 4,
 "nbformat_minor": 5
}
