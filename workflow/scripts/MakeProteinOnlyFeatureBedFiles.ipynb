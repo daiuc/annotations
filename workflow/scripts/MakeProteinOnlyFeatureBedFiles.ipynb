{
 "cells": [
  {
   "cell_type": "code",
   "execution_count": 3,
   "id": "2e62e5c3-33d5-4fb9-8658-11dc5fcc3bea",
   "metadata": {},
   "outputs": [],
   "source": [
    "library(tidyverse)\n",
    "library(data.table)\n",
    "library(glue)"
   ]
  },
  {
   "cell_type": "code",
   "execution_count": 2,
   "id": "60dcf748-7397-44dc-a7e0-192dcf0a2214",
   "metadata": {},
   "outputs": [],
   "source": [
    "chroms <- glue('chr{c(1:22)}')\n",
    "chroms <- c(chroms, 'chrX', 'chrY')\n",
    "chroms <- factor(chroms, levels = chroms)"
   ]
  },
  {
   "cell_type": "markdown",
   "id": "e63b783f-1eac-4d3c-bb9e-7d75e0298ed4",
   "metadata": {},
   "source": [
    "# Lookup for protein coding only gene_id and transcript_id"
   ]
  },
  {
   "cell_type": "code",
   "execution_count": 4,
   "id": "69e24f96-836e-4346-80f1-638cfe2cee1c",
   "metadata": {},
   "outputs": [],
   "source": [
    "lookup.f <- '../../hg38/use_ucsc_table_browser/gencode.v43.primary_assembly_proteinOnly.annotation.transcript.bed'"
   ]
  },
  {
   "cell_type": "code",
   "execution_count": 5,
   "id": "13c7d327-63e8-4269-b6f1-2eea29f58ec8",
   "metadata": {},
   "outputs": [],
   "source": [
    "# extract gene_id and transcript_id\n",
    "lookup <- fread(lookup.f) %>% \n",
    "    filter(V1 %in% chroms) %>% \n",
    "    separate_wider_delim(V4, \"|\", names = c(\"gene_id\", \"gene_name\", \"transcript_id\")) %>% \n",
    "    select(gene_id, transcript_id) %>%\n",
    "    distinct %>% \n",
    "    as.data.table\n",
    "\n",
    "# remove .1, .2 from ids\n",
    "lookup[, `:=`(gene_id = str_remove(gene_id, \"\\\\..*$\"),\n",
    "              transcript_id = str_remove(transcript_id, \"\\\\..*$\")\n",
    "             )]\n",
    "\n",
    "lookup <- lookup[, .(gene_id, transcript_id)] %>% unique"
   ]
  },
  {
   "cell_type": "markdown",
   "id": "872ae5dd-df00-4f04-a86a-ed94f108958a",
   "metadata": {},
   "source": [
    "## Introns"
   ]
  },
  {
   "cell_type": "code",
   "execution_count": 11,
   "id": "ab762a7d-fa0a-4b7e-aa9e-226744a5e8a1",
   "metadata": {},
   "outputs": [],
   "source": [
    "intron.f <- '../../hg38/use_ucsc_table_browser/gencode.v43_intron.bed'"
   ]
  },
  {
   "cell_type": "code",
   "execution_count": 12,
   "id": "8b0cc93d-5b55-4d11-bdb2-1ac5c5942c58",
   "metadata": {},
   "outputs": [],
   "source": [
    "intron <- fread(intron.f) %>%\n",
    "    separate_wider_regex(V4, patterns = c(transcript_id = \"ENST[\\\\.\\\\d]+\", '_.+')) %>%\n",
    "    filter(V1 %in% chroms) %>% \n",
    "    as.data.table\n",
    "intron[, transcript_id := str_remove(transcript_id, \"\\\\..*\")]"
   ]
  },
  {
   "cell_type": "code",
   "execution_count": 13,
   "id": "7d88badc-bd75-4fe0-bad0-b2c7a48ad8d8",
   "metadata": {},
   "outputs": [],
   "source": [
    "# inner_join with proteincoding only lookup table\n",
    "intron <- inner_join(intron, lookup, by = \"transcript_id\")"
   ]
  },
  {
   "cell_type": "code",
   "execution_count": 14,
   "id": "072bc7af-6916-43d5-99e0-d8e0c733acda",
   "metadata": {},
   "outputs": [],
   "source": [
    "# concat gene_id and transcript_id, ready for BED output\n",
    "intron <- intron[, .(V1 = factor(V1, levels = chroms), V2, V3, \n",
    "                     V4 = paste(gene_id, transcript_id, sep = \"|\"), V5, V6)]\n",
    "# sort\n",
    "setorder(intron, V1, V2, V3)\n"
   ]
  },
  {
   "cell_type": "code",
   "execution_count": 15,
   "id": "6c731e21-a0e7-4feb-ae78-15c44b143f7f",
   "metadata": {},
   "outputs": [],
   "source": [
    "fwrite(intron, \"../../hg38/use_ucsc_table_browser/gencode.v43_intron_proteinOnly.bed\")"
   ]
  },
  {
   "cell_type": "markdown",
   "id": "0980a857-6f50-4e33-900c-4ba31cd22ba1",
   "metadata": {},
   "source": [
    "## 5' UTR"
   ]
  },
  {
   "cell_type": "code",
   "execution_count": 16,
   "id": "3903d13e-0a65-4181-848a-a9917cd65073",
   "metadata": {},
   "outputs": [],
   "source": [
    "utr5p.f <- '../../hg38/use_ucsc_table_browser/gencode.v43_UTR5p.bed'"
   ]
  },
  {
   "cell_type": "code",
   "execution_count": 17,
   "id": "758ffbd5-0e71-4241-9c14-ec4039328f5a",
   "metadata": {},
   "outputs": [],
   "source": [
    "utr5p <- fread(utr5p.f) %>%\n",
    "    separate_wider_regex(V4, patterns = c(transcript_id = \"ENST[\\\\.\\\\d]+\", '_.+')) %>%\n",
    "    filter(V1 %in% chroms) %>% \n",
    "    as.data.table\n",
    "utr5p[, transcript_id := str_remove(transcript_id, \"\\\\..*\")]"
   ]
  },
  {
   "cell_type": "code",
   "execution_count": 18,
   "id": "ae72d69b-5256-4b28-845a-23bffd2d66d4",
   "metadata": {},
   "outputs": [],
   "source": [
    "# inner_join with proteincoding only lookup table\n",
    "utr5p <- inner_join(utr5p, lookup, by = \"transcript_id\")"
   ]
  },
  {
   "cell_type": "code",
   "execution_count": 19,
   "id": "343b3de2-9afb-4d4e-ad03-03d950b63cfc",
   "metadata": {},
   "outputs": [],
   "source": [
    "# concat gene_id and transcript_id, ready for BED output\n",
    "utr5p <- utr5p[, .(V1 = factor(V1, levels = chroms), V2, V3, \n",
    "                     V4 = paste(gene_id, transcript_id, sep = \"|\"), V5, V6)]\n",
    "# sort\n",
    "setorder(utr5p, V1, V2, V3)\n"
   ]
  },
  {
   "cell_type": "code",
   "execution_count": 20,
   "id": "89806862-d879-4dea-907a-9cbd2d9bf85f",
   "metadata": {},
   "outputs": [],
   "source": [
    "fwrite(utr5p, \"../../hg38/use_ucsc_table_browser/gencode.v43_UTR5p_proteinOnly.bed\")"
   ]
  },
  {
   "cell_type": "code",
   "execution_count": null,
   "id": "f36658ca-0823-46d0-8d10-59ebf0c616e0",
   "metadata": {},
   "outputs": [],
   "source": []
  },
  {
   "cell_type": "markdown",
   "id": "5cd1d04f-5a5e-4a94-8c7e-acaab169a310",
   "metadata": {},
   "source": [
    "## 3' UTR"
   ]
  },
  {
   "cell_type": "code",
   "execution_count": 21,
   "id": "503eaddb-054a-4e60-b551-711fbb01988e",
   "metadata": {},
   "outputs": [],
   "source": [
    "utr3p.f <- '../../hg38/use_ucsc_table_browser/gencode.v43_UTR3p.bed'"
   ]
  },
  {
   "cell_type": "code",
   "execution_count": 22,
   "id": "ffb6e652-8203-464b-9454-53b7cb053d6f",
   "metadata": {},
   "outputs": [],
   "source": [
    "utr3p <- fread(utr3p.f) %>%\n",
    "    separate_wider_regex(V4, patterns = c(transcript_id = \"ENST[\\\\.\\\\d]+\", '_.+')) %>%\n",
    "    filter(V1 %in% chroms) %>% \n",
    "    as.data.table\n",
    "utr3p[, transcript_id := str_remove(transcript_id, \"\\\\..*\")]"
   ]
  },
  {
   "cell_type": "code",
   "execution_count": 23,
   "id": "0ce025a8-ea71-42f5-aff0-e664beba57e2",
   "metadata": {},
   "outputs": [],
   "source": [
    "# inner_join with proteincoding only lookup table\n",
    "utr3p <- inner_join(utr3p, lookup, by = \"transcript_id\")"
   ]
  },
  {
   "cell_type": "code",
   "execution_count": 24,
   "id": "cb804bb9-1236-46e4-b1b3-2a3ec163dfcf",
   "metadata": {},
   "outputs": [],
   "source": [
    "# concat gene_id and transcript_id, ready for BED output\n",
    "utr3p <- utr3p[, .(V1 = factor(V1, levels = chroms), V2, V3, \n",
    "                     V4 = paste(gene_id, transcript_id, sep = \"|\"), V5, V6)]\n",
    "# sort\n",
    "setorder(utr3p, V1, V2, V3)\n"
   ]
  },
  {
   "cell_type": "code",
   "execution_count": 25,
   "id": "011e49ab-8bd6-4714-9b8e-41aaa76c7625",
   "metadata": {},
   "outputs": [],
   "source": [
    "fwrite(utr3p, \"../../hg38/use_ucsc_table_browser/gencode.v43_UTR3p_proteinOnly.bed\")"
   ]
  },
  {
   "cell_type": "code",
   "execution_count": null,
   "id": "a005ecd4-6a6c-4e5c-bf5b-bfed05af5464",
   "metadata": {},
   "outputs": [],
   "source": []
  },
  {
   "cell_type": "markdown",
   "id": "4e1b96b4-1f00-4b31-84c2-61e5911119d9",
   "metadata": {},
   "source": [
    "## coding exons (do not include UTRs)"
   ]
  },
  {
   "cell_type": "code",
   "execution_count": 26,
   "id": "48d8b902-70b7-4aff-a506-8189e0630137",
   "metadata": {},
   "outputs": [],
   "source": [
    "codingexon.f <- '../../hg38/use_ucsc_table_browser/gencode.v43_codingExon.bed'"
   ]
  },
  {
   "cell_type": "code",
   "execution_count": 27,
   "id": "5ee46d91-5c37-4e71-8d21-308315c6158a",
   "metadata": {},
   "outputs": [],
   "source": [
    "codingexon <- fread(codingexon.f) %>%\n",
    "    separate_wider_regex(V4, patterns = c(transcript_id = \"ENST[\\\\.\\\\d]+\", '_.+')) %>%\n",
    "    filter(V1 %in% chroms) %>% \n",
    "    as.data.table\n",
    "codingexon[, transcript_id := str_remove(transcript_id, \"\\\\..*\")]"
   ]
  },
  {
   "cell_type": "code",
   "execution_count": 28,
   "id": "7f53d303-862e-400d-962f-b96268ccfcf9",
   "metadata": {},
   "outputs": [],
   "source": [
    "# inner_join with proteincoding only lookup table\n",
    "codingexon <- inner_join(codingexon, lookup, by = \"transcript_id\")"
   ]
  },
  {
   "cell_type": "code",
   "execution_count": 29,
   "id": "98fff5bf-194b-46c3-9d47-9ea767a1fb3b",
   "metadata": {},
   "outputs": [],
   "source": [
    "# concat gene_id and transcript_id, ready for BED output\n",
    "codingexon <- codingexon[, .(V1 = factor(V1, levels = chroms), V2, V3, \n",
    "                     V4 = paste(gene_id, transcript_id, sep = \"|\"), V5, V6)]\n",
    "# sort\n",
    "setorder(codingexon, V1, V2, V3)\n"
   ]
  },
  {
   "cell_type": "code",
   "execution_count": 30,
   "id": "65d97774-97e1-4958-8ab1-90c1f4f89a24",
   "metadata": {},
   "outputs": [],
   "source": [
    "fwrite(codingexon, \"../../hg38/use_ucsc_table_browser/gencode.v43_codingExon_proteinOnly.bed\")"
   ]
  },
  {
   "cell_type": "code",
   "execution_count": null,
   "id": "67223c59-7f89-48af-b732-ffda4e82086d",
   "metadata": {},
   "outputs": [],
   "source": []
  }
 ],
 "metadata": {
  "kernelspec": {
   "display_name": "R4.1.1",
   "language": "R",
   "name": "r4.1.1"
  },
  "language_info": {
   "codemirror_mode": "r",
   "file_extension": ".r",
   "mimetype": "text/x-r-source",
   "name": "R",
   "pygments_lexer": "r",
   "version": "4.1.1"
  }
 },
 "nbformat": 4,
 "nbformat_minor": 5
}
