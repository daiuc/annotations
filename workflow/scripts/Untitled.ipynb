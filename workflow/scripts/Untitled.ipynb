{
 "cells": [
  {
   "cell_type": "code",
   "execution_count": 1,
   "id": "12636832-e6ea-4e35-bee3-0fa344d3cada",
   "metadata": {
    "vscode": {
     "languageId": "r"
    }
   },
   "outputs": [],
   "source": [
    "#| label: setup\n",
    "#| include: false\n",
    "\n",
    "suppressMessages(library(data.table))\n",
    "suppressMessages(library(tidyverse))\n",
    "suppressMessages(library(glue))\n",
    "suppressMessages(library(furrr))\n",
    "\n",
    "plan(strategy = \"multisession\", workers = min(6, availableCores()))"
   ]
  },
  {
   "cell_type": "markdown",
   "id": "8889a746-7ae1-4930-a038-5aa8e5800127",
   "metadata": {},
   "source": [
    "## Load and process Ben's annotation\n",
    "\n",
    "Ben's file has 458,713 introns. Each row is a unique intron without duplications."
   ]
  },
  {
   "cell_type": "code",
   "execution_count": 2,
   "id": "7ed9b4c0-6cd2-4b7e-a2f6-491b1ac4d508",
   "metadata": {
    "vscode": {
     "languageId": "r"
    }
   },
   "outputs": [],
   "source": [
    "introns_ben.f  <- \"/project2/yangili1/cdai/SpliFi/code/resources/IntronAnnotationsFromYang.tsv.gz\""
   ]
  },
  {
   "cell_type": "code",
   "execution_count": 3,
   "id": "c8d75614-59fd-4697-a505-df7e31fede97",
   "metadata": {
    "vscode": {
     "languageId": "r"
    }
   },
   "outputs": [],
   "source": [
    "introns_ben <- fread(introns_ben.f)"
   ]
  },
  {
   "cell_type": "code",
   "execution_count": 4,
   "id": "e4cc9756-e23a-4dd2-b570-6723371c8fec",
   "metadata": {
    "vscode": {
     "languageId": "r"
    }
   },
   "outputs": [],
   "source": [
    "introns_ben[, end := end - 1] # convert to standard BED format\n",
    "introns_ben[, iid := paste(chrom, start, end, strand, sep=\":\")]"
   ]
  },
  {
   "cell_type": "code",
   "execution_count": 5,
   "id": "b4fa4066-f298-4e10-bd17-6489857fd5c7",
   "metadata": {
    "vscode": {
     "languageId": "r"
    }
   },
   "outputs": [
    {
     "data": {
      "text/html": [
       "458713"
      ],
      "text/latex": [
       "458713"
      ],
      "text/markdown": [
       "458713"
      ],
      "text/plain": [
       "[1] 458713"
      ]
     },
     "metadata": {},
     "output_type": "display_data"
    },
    {
     "data": {
      "text/html": [
       "<style>\n",
       ".list-inline {list-style: none; margin:0; padding: 0}\n",
       ".list-inline>li {display: inline-block}\n",
       ".list-inline>li:not(:last-child)::after {content: \"\\00b7\"; padding: 0 .5ex}\n",
       "</style>\n",
       "<ol class=list-inline><li>458713</li><li>10</li></ol>\n"
      ],
      "text/latex": [
       "\\begin{enumerate*}\n",
       "\\item 458713\n",
       "\\item 10\n",
       "\\end{enumerate*}\n"
      ],
      "text/markdown": [
       "1. 458713\n",
       "2. 10\n",
       "\n",
       "\n"
      ],
      "text/plain": [
       "[1] 458713     10"
      ]
     },
     "metadata": {},
     "output_type": "display_data"
    }
   ],
   "source": [
    "introns_ben$iid %>% unique %>% length\n",
    "dim(introns_ben)"
   ]
  },
  {
   "cell_type": "markdown",
   "id": "e1787ba4-221b-4570-b2fa-459f501594c5",
   "metadata": {},
   "source": [
    "## Load and process gencode (all) annotation"
   ]
  },
  {
   "cell_type": "code",
   "execution_count": 7,
   "id": "b1aa13dc-dbf6-41e0-92a7-211ed54ce5b0",
   "metadata": {
    "vscode": {
     "languageId": "r"
    }
   },
   "outputs": [],
   "source": [
    "intron_gb_v43.f  <- \"/project2/yangili1/cdai/annotations/hg38/use_gtftk/gencode_v43_productive.intron_by_transcript.bed.gz\"\n",
    "intron_gb_v37.f  <- \"/project2/yangili1/cdai/annotations/hg38/use_gtftk/gencode_v37_productive.intron_by_transcript.bed.gz\""
   ]
  },
  {
   "cell_type": "code",
   "execution_count": 8,
   "id": "f5a359ca-c090-487f-92b2-5424bcac5c87",
   "metadata": {
    "vscode": {
     "languageId": "r"
    }
   },
   "outputs": [],
   "source": [
    "introns_gb_v43 <- fread(intron_gb_v43.f, sep='\\t', col.names = c(\"chrom\", \"start\", \"end\", \"label\", \"score\", \"strand\"))\n",
    "introns_gb_v37 <- fread(intron_gb_v37.f, sep='\\t', col.names = c(\"chrom\", \"start\", \"end\", \"label\", \"score\", \"strand\"))"
   ]
  },
  {
   "cell_type": "code",
   "execution_count": 12,
   "id": "330edf7e-b02a-40b9-a1ff-8cbc51fa2089",
   "metadata": {
    "vscode": {
     "languageId": "r"
    }
   },
   "outputs": [],
   "source": [
    "introns_gb_v43 <- separate_wider_delim(introns_gb_v43, label, \"|\", names = c(\"feature\", \"gid\", \"tid\", \"gene\")) %>% as.data.table\n",
    "introns_gb_v37 <- separate_wider_delim(introns_gb_v37, label, \"|\", names = c(\"feature\", \"gid\", \"tid\", \"gene\")) %>% as.data.table"
   ]
  },
  {
   "cell_type": "code",
   "execution_count": 13,
   "id": "a7876d07-a929-4a66-81ba-eb74014665ca",
   "metadata": {
    "vscode": {
     "languageId": "r"
    }
   },
   "outputs": [],
   "source": [
    "introns_gb_v43[, iid := paste(chrom, start, end, strand, sep=\":\")]\n",
    "introns_gb_v37[, iid := paste(chrom, start, end, strand, sep=\":\")]"
   ]
  },
  {
   "cell_type": "code",
   "execution_count": 14,
   "id": "2f2671ee-84fe-48b3-af82-4377a9822b18",
   "metadata": {
    "vscode": {
     "languageId": "r"
    }
   },
   "outputs": [
    {
     "data": {
      "text/html": [
       "<style>\n",
       ".list-inline {list-style: none; margin:0; padding: 0}\n",
       ".list-inline>li {display: inline-block}\n",
       ".list-inline>li:not(:last-child)::after {content: \"\\00b7\"; padding: 0 .5ex}\n",
       "</style>\n",
       "<ol class=list-inline><li>761765</li><li>10</li></ol>\n"
      ],
      "text/latex": [
       "\\begin{enumerate*}\n",
       "\\item 761765\n",
       "\\item 10\n",
       "\\end{enumerate*}\n"
      ],
      "text/markdown": [
       "1. 761765\n",
       "2. 10\n",
       "\n",
       "\n"
      ],
      "text/plain": [
       "[1] 761765     10"
      ]
     },
     "metadata": {},
     "output_type": "display_data"
    },
    {
     "data": {
      "text/html": [
       "<table class=\"dataframe\">\n",
       "<caption>A data.table: 2 × 10</caption>\n",
       "<thead>\n",
       "\t<tr><th scope=col>chrom</th><th scope=col>start</th><th scope=col>end</th><th scope=col>feature</th><th scope=col>gid</th><th scope=col>tid</th><th scope=col>gene</th><th scope=col>score</th><th scope=col>strand</th><th scope=col>iid</th></tr>\n",
       "\t<tr><th scope=col>&lt;chr&gt;</th><th scope=col>&lt;int&gt;</th><th scope=col>&lt;int&gt;</th><th scope=col>&lt;chr&gt;</th><th scope=col>&lt;chr&gt;</th><th scope=col>&lt;chr&gt;</th><th scope=col>&lt;chr&gt;</th><th scope=col>&lt;int&gt;</th><th scope=col>&lt;chr&gt;</th><th scope=col>&lt;chr&gt;</th></tr>\n",
       "</thead>\n",
       "<tbody>\n",
       "\t<tr><td>chr1</td><td>65433</td><td>65519</td><td>intron</td><td>ENSG00000186092.7</td><td>ENST00000641515.2</td><td>OR4F5</td><td>1</td><td>+</td><td>chr1:65433:65519:+</td></tr>\n",
       "\t<tr><td>chr1</td><td>65573</td><td>69036</td><td>intron</td><td>ENSG00000186092.7</td><td>ENST00000641515.2</td><td>OR4F5</td><td>2</td><td>+</td><td>chr1:65573:69036:+</td></tr>\n",
       "</tbody>\n",
       "</table>\n"
      ],
      "text/latex": [
       "A data.table: 2 × 10\n",
       "\\begin{tabular}{llllllllll}\n",
       " chrom & start & end & feature & gid & tid & gene & score & strand & iid\\\\\n",
       " <chr> & <int> & <int> & <chr> & <chr> & <chr> & <chr> & <int> & <chr> & <chr>\\\\\n",
       "\\hline\n",
       "\t chr1 & 65433 & 65519 & intron & ENSG00000186092.7 & ENST00000641515.2 & OR4F5 & 1 & + & chr1:65433:65519:+\\\\\n",
       "\t chr1 & 65573 & 69036 & intron & ENSG00000186092.7 & ENST00000641515.2 & OR4F5 & 2 & + & chr1:65573:69036:+\\\\\n",
       "\\end{tabular}\n"
      ],
      "text/markdown": [
       "\n",
       "A data.table: 2 × 10\n",
       "\n",
       "| chrom &lt;chr&gt; | start &lt;int&gt; | end &lt;int&gt; | feature &lt;chr&gt; | gid &lt;chr&gt; | tid &lt;chr&gt; | gene &lt;chr&gt; | score &lt;int&gt; | strand &lt;chr&gt; | iid &lt;chr&gt; |\n",
       "|---|---|---|---|---|---|---|---|---|---|\n",
       "| chr1 | 65433 | 65519 | intron | ENSG00000186092.7 | ENST00000641515.2 | OR4F5 | 1 | + | chr1:65433:65519:+ |\n",
       "| chr1 | 65573 | 69036 | intron | ENSG00000186092.7 | ENST00000641515.2 | OR4F5 | 2 | + | chr1:65573:69036:+ |\n",
       "\n"
      ],
      "text/plain": [
       "  chrom start end   feature gid               tid               gene  score\n",
       "1 chr1  65433 65519 intron  ENSG00000186092.7 ENST00000641515.2 OR4F5 1    \n",
       "2 chr1  65573 69036 intron  ENSG00000186092.7 ENST00000641515.2 OR4F5 2    \n",
       "  strand iid               \n",
       "1 +      chr1:65433:65519:+\n",
       "2 +      chr1:65573:69036:+"
      ]
     },
     "metadata": {},
     "output_type": "display_data"
    },
    {
     "data": {
      "text/html": [
       "<style>\n",
       ".list-inline {list-style: none; margin:0; padding: 0}\n",
       ".list-inline>li {display: inline-block}\n",
       ".list-inline>li:not(:last-child)::after {content: \"\\00b7\"; padding: 0 .5ex}\n",
       "</style>\n",
       "<ol class=list-inline><li>706186</li><li>10</li></ol>\n"
      ],
      "text/latex": [
       "\\begin{enumerate*}\n",
       "\\item 706186\n",
       "\\item 10\n",
       "\\end{enumerate*}\n"
      ],
      "text/markdown": [
       "1. 706186\n",
       "2. 10\n",
       "\n",
       "\n"
      ],
      "text/plain": [
       "[1] 706186     10"
      ]
     },
     "metadata": {},
     "output_type": "display_data"
    },
    {
     "data": {
      "text/html": [
       "<table class=\"dataframe\">\n",
       "<caption>A data.table: 2 × 10</caption>\n",
       "<thead>\n",
       "\t<tr><th scope=col>chrom</th><th scope=col>start</th><th scope=col>end</th><th scope=col>feature</th><th scope=col>gid</th><th scope=col>tid</th><th scope=col>gene</th><th scope=col>score</th><th scope=col>strand</th><th scope=col>iid</th></tr>\n",
       "\t<tr><th scope=col>&lt;chr&gt;</th><th scope=col>&lt;int&gt;</th><th scope=col>&lt;int&gt;</th><th scope=col>&lt;chr&gt;</th><th scope=col>&lt;chr&gt;</th><th scope=col>&lt;chr&gt;</th><th scope=col>&lt;chr&gt;</th><th scope=col>&lt;int&gt;</th><th scope=col>&lt;chr&gt;</th><th scope=col>&lt;chr&gt;</th></tr>\n",
       "</thead>\n",
       "<tbody>\n",
       "\t<tr><td>chr1</td><td>65433</td><td>65519</td><td>intron</td><td>ENSG00000186092.6</td><td>ENST00000641515.2</td><td>OR4F5</td><td>1</td><td>+</td><td>chr1:65433:65519:+</td></tr>\n",
       "\t<tr><td>chr1</td><td>65573</td><td>69036</td><td>intron</td><td>ENSG00000186092.6</td><td>ENST00000641515.2</td><td>OR4F5</td><td>2</td><td>+</td><td>chr1:65573:69036:+</td></tr>\n",
       "</tbody>\n",
       "</table>\n"
      ],
      "text/latex": [
       "A data.table: 2 × 10\n",
       "\\begin{tabular}{llllllllll}\n",
       " chrom & start & end & feature & gid & tid & gene & score & strand & iid\\\\\n",
       " <chr> & <int> & <int> & <chr> & <chr> & <chr> & <chr> & <int> & <chr> & <chr>\\\\\n",
       "\\hline\n",
       "\t chr1 & 65433 & 65519 & intron & ENSG00000186092.6 & ENST00000641515.2 & OR4F5 & 1 & + & chr1:65433:65519:+\\\\\n",
       "\t chr1 & 65573 & 69036 & intron & ENSG00000186092.6 & ENST00000641515.2 & OR4F5 & 2 & + & chr1:65573:69036:+\\\\\n",
       "\\end{tabular}\n"
      ],
      "text/markdown": [
       "\n",
       "A data.table: 2 × 10\n",
       "\n",
       "| chrom &lt;chr&gt; | start &lt;int&gt; | end &lt;int&gt; | feature &lt;chr&gt; | gid &lt;chr&gt; | tid &lt;chr&gt; | gene &lt;chr&gt; | score &lt;int&gt; | strand &lt;chr&gt; | iid &lt;chr&gt; |\n",
       "|---|---|---|---|---|---|---|---|---|---|\n",
       "| chr1 | 65433 | 65519 | intron | ENSG00000186092.6 | ENST00000641515.2 | OR4F5 | 1 | + | chr1:65433:65519:+ |\n",
       "| chr1 | 65573 | 69036 | intron | ENSG00000186092.6 | ENST00000641515.2 | OR4F5 | 2 | + | chr1:65573:69036:+ |\n",
       "\n"
      ],
      "text/plain": [
       "  chrom start end   feature gid               tid               gene  score\n",
       "1 chr1  65433 65519 intron  ENSG00000186092.6 ENST00000641515.2 OR4F5 1    \n",
       "2 chr1  65573 69036 intron  ENSG00000186092.6 ENST00000641515.2 OR4F5 2    \n",
       "  strand iid               \n",
       "1 +      chr1:65433:65519:+\n",
       "2 +      chr1:65573:69036:+"
      ]
     },
     "metadata": {},
     "output_type": "display_data"
    }
   ],
   "source": [
    "dim(introns_gb_v43)\n",
    "introns_gb_v43[1:2]\n",
    "dim(introns_gb_v37)\n",
    "introns_gb_v37[1:2]"
   ]
  },
  {
   "cell_type": "markdown",
   "id": "24a8a1e7-9195-430f-b658-2cd36d14ce6b",
   "metadata": {},
   "source": [
    "## Agreements between gencode v43 and v37 (basic)"
   ]
  },
  {
   "cell_type": "code",
   "execution_count": 15,
   "id": "a4262d9f-af20-4e5e-8b3d-d446e428a1f3",
   "metadata": {
    "vscode": {
     "languageId": "r"
    }
   },
   "outputs": [
    {
     "name": "stderr",
     "output_type": "stream",
     "text": [
      "Warning message in full_join(x = introns_gb_v43[, .(iid, tid)] %>% unique, y = introns_gb_v37[, :\n",
      "“\u001b[1m\u001b[22mDetected an unexpected many-to-many relationship between `x` and `y`.\n",
      "\u001b[36mℹ\u001b[39m Row 3 of `x` matches multiple rows in `y`.\n",
      "\u001b[36mℹ\u001b[39m Row 3 of `y` matches multiple rows in `x`.\n",
      "\u001b[36mℹ\u001b[39m If a many-to-many relationship is expected, set `relationship =\n",
      "  \"many-to-many\"` to silence this warning.”\n"
     ]
    },
    {
     "data": {
      "text/html": [
       "<table class=\"dataframe\">\n",
       "<caption>A data.table: 3 × 3</caption>\n",
       "<thead>\n",
       "\t<tr><th scope=col>inV43</th><th scope=col>inV37</th><th scope=col>N</th></tr>\n",
       "\t<tr><th scope=col>&lt;lgl&gt;</th><th scope=col>&lt;lgl&gt;</th><th scope=col>&lt;int&gt;</th></tr>\n",
       "</thead>\n",
       "<tbody>\n",
       "\t<tr><td> TRUE</td><td> TRUE</td><td>248183</td></tr>\n",
       "\t<tr><td> TRUE</td><td>FALSE</td><td>  5631</td></tr>\n",
       "\t<tr><td>FALSE</td><td> TRUE</td><td>  2971</td></tr>\n",
       "</tbody>\n",
       "</table>\n"
      ],
      "text/latex": [
       "A data.table: 3 × 3\n",
       "\\begin{tabular}{lll}\n",
       " inV43 & inV37 & N\\\\\n",
       " <lgl> & <lgl> & <int>\\\\\n",
       "\\hline\n",
       "\t  TRUE &  TRUE & 248183\\\\\n",
       "\t  TRUE & FALSE &   5631\\\\\n",
       "\t FALSE &  TRUE &   2971\\\\\n",
       "\\end{tabular}\n"
      ],
      "text/markdown": [
       "\n",
       "A data.table: 3 × 3\n",
       "\n",
       "| inV43 &lt;lgl&gt; | inV37 &lt;lgl&gt; | N &lt;int&gt; |\n",
       "|---|---|---|\n",
       "|  TRUE |  TRUE | 248183 |\n",
       "|  TRUE | FALSE |   5631 |\n",
       "| FALSE |  TRUE |   2971 |\n",
       "\n"
      ],
      "text/plain": [
       "  inV43 inV37 N     \n",
       "1  TRUE  TRUE 248183\n",
       "2  TRUE FALSE   5631\n",
       "3 FALSE  TRUE   2971"
      ]
     },
     "metadata": {},
     "output_type": "display_data"
    }
   ],
   "source": [
    "#| label: 'tbl-agreements-between-v43-v37'\n",
    "#| tbl-caption: 'agreements between V43 and V37'\n",
    "full_join(\n",
    "    x = introns_gb_v43[, .(iid, tid)] %>% unique,\n",
    "    y = introns_gb_v37[, .(iid, tid)] %>% unique,\n",
    "    by = 'iid',\n",
    "    suffix = c(\"_v43\", \"_v37\")\n",
    ") %>% as.data.table() %>%  \n",
    "   .[, .(N = length(unique(iid))), by = .(inV43 = !is.na(tid_v43), inV37 = !is.na(tid_v37))] # %>% unique"
   ]
  },
  {
   "cell_type": "markdown",
   "id": "d728ed6e-8ca7-42de-bf24-71eef9893f5d",
   "metadata": {
    "vscode": {
     "languageId": "r"
    }
   },
   "source": [
    "### Combine basic v43 and basic v37"
   ]
  },
  {
   "cell_type": "raw",
   "id": "151c8a67-709c-4565-b56a-74dd52f3fa92",
   "metadata": {},
   "source": [
    "# combine basic v43 and basic v37\n",
    "\n",
    "introns_gb_combined <- rbindlist(list(\n",
    "    introns_gb_v43[, .(chrom, start, end, strand, iid, gid, tid, gene)],\n",
    "    introns_gb_v37[, .(chrom, start, end, strand, iid, gid, tid, gene)]\n",
    "))  %>% unique"
   ]
  },
  {
   "cell_type": "code",
   "execution_count": 29,
   "id": "857a3fd1-6aa7-4103-84a8-f6edf344218b",
   "metadata": {},
   "outputs": [],
   "source": [
    "introns_gb_combined <- fread('../../hg38/use_gtftk/gencode_v43_plus_v37_productive.intron_by_transcript_BEDlike.txt.gz', \n",
    "                             col.names = c('chrom', 'start', 'end', 'strand', 'label'))"
   ]
  },
  {
   "cell_type": "code",
   "execution_count": 30,
   "id": "5f559345-1ead-4ec0-91a1-763f072546e5",
   "metadata": {},
   "outputs": [
    {
     "data": {
      "text/html": [
       "<table class=\"dataframe\">\n",
       "<caption>A data.table: 2 × 5</caption>\n",
       "<thead>\n",
       "\t<tr><th scope=col>chrom</th><th scope=col>start</th><th scope=col>end</th><th scope=col>strand</th><th scope=col>label</th></tr>\n",
       "\t<tr><th scope=col>&lt;chr&gt;</th><th scope=col>&lt;int&gt;</th><th scope=col>&lt;int&gt;</th><th scope=col>&lt;chr&gt;</th><th scope=col>&lt;chr&gt;</th></tr>\n",
       "</thead>\n",
       "<tbody>\n",
       "\t<tr><td>chr1</td><td>65433</td><td>65519</td><td>+</td><td>productive</td></tr>\n",
       "\t<tr><td>chr1</td><td>65573</td><td>69036</td><td>+</td><td>productive</td></tr>\n",
       "</tbody>\n",
       "</table>\n"
      ],
      "text/latex": [
       "A data.table: 2 × 5\n",
       "\\begin{tabular}{lllll}\n",
       " chrom & start & end & strand & label\\\\\n",
       " <chr> & <int> & <int> & <chr> & <chr>\\\\\n",
       "\\hline\n",
       "\t chr1 & 65433 & 65519 & + & productive\\\\\n",
       "\t chr1 & 65573 & 69036 & + & productive\\\\\n",
       "\\end{tabular}\n"
      ],
      "text/markdown": [
       "\n",
       "A data.table: 2 × 5\n",
       "\n",
       "| chrom &lt;chr&gt; | start &lt;int&gt; | end &lt;int&gt; | strand &lt;chr&gt; | label &lt;chr&gt; |\n",
       "|---|---|---|---|---|\n",
       "| chr1 | 65433 | 65519 | + | productive |\n",
       "| chr1 | 65573 | 69036 | + | productive |\n",
       "\n"
      ],
      "text/plain": [
       "  chrom start end   strand label     \n",
       "1 chr1  65433 65519 +      productive\n",
       "2 chr1  65573 69036 +      productive"
      ]
     },
     "metadata": {},
     "output_type": "display_data"
    }
   ],
   "source": [
    "introns_gb_combined[1:2]"
   ]
  },
  {
   "cell_type": "code",
   "execution_count": 32,
   "id": "8919eba6-0333-49bf-bc6a-dd6e3229df6f",
   "metadata": {},
   "outputs": [
    {
     "data": {
      "text/html": [
       "256785"
      ],
      "text/latex": [
       "256785"
      ],
      "text/markdown": [
       "256785"
      ],
      "text/plain": [
       "[1] 256785"
      ]
     },
     "metadata": {},
     "output_type": "display_data"
    }
   ],
   "source": [
    "introns_gb_combined %>% uniqueN"
   ]
  },
  {
   "cell_type": "markdown",
   "id": "c8433e5c-02b9-43ab-9159-1efaa030a1f6",
   "metadata": {},
   "source": [
    "## Compare v43 and v37 productive combined with Ben's"
   ]
  },
  {
   "cell_type": "code",
   "execution_count": 35,
   "id": "bf1f559e-7278-4bb2-9cda-f1d1a3539966",
   "metadata": {},
   "outputs": [
    {
     "data": {
      "text/html": [
       "<table class=\"dataframe\">\n",
       "<caption>A data.table: 2 × 6</caption>\n",
       "<thead>\n",
       "\t<tr><th scope=col>chrom</th><th scope=col>start</th><th scope=col>end</th><th scope=col>strand</th><th scope=col>label</th><th scope=col>iid</th></tr>\n",
       "\t<tr><th scope=col>&lt;chr&gt;</th><th scope=col>&lt;int&gt;</th><th scope=col>&lt;int&gt;</th><th scope=col>&lt;chr&gt;</th><th scope=col>&lt;chr&gt;</th><th scope=col>&lt;chr&gt;</th></tr>\n",
       "</thead>\n",
       "<tbody>\n",
       "\t<tr><td>chr1</td><td>65433</td><td>65519</td><td>+</td><td>productive</td><td>chr1:65433:65519:+</td></tr>\n",
       "\t<tr><td>chr1</td><td>65573</td><td>69036</td><td>+</td><td>productive</td><td>chr1:65573:69036:+</td></tr>\n",
       "</tbody>\n",
       "</table>\n"
      ],
      "text/latex": [
       "A data.table: 2 × 6\n",
       "\\begin{tabular}{llllll}\n",
       " chrom & start & end & strand & label & iid\\\\\n",
       " <chr> & <int> & <int> & <chr> & <chr> & <chr>\\\\\n",
       "\\hline\n",
       "\t chr1 & 65433 & 65519 & + & productive & chr1:65433:65519:+\\\\\n",
       "\t chr1 & 65573 & 69036 & + & productive & chr1:65573:69036:+\\\\\n",
       "\\end{tabular}\n"
      ],
      "text/markdown": [
       "\n",
       "A data.table: 2 × 6\n",
       "\n",
       "| chrom &lt;chr&gt; | start &lt;int&gt; | end &lt;int&gt; | strand &lt;chr&gt; | label &lt;chr&gt; | iid &lt;chr&gt; |\n",
       "|---|---|---|---|---|---|\n",
       "| chr1 | 65433 | 65519 | + | productive | chr1:65433:65519:+ |\n",
       "| chr1 | 65573 | 69036 | + | productive | chr1:65573:69036:+ |\n",
       "\n"
      ],
      "text/plain": [
       "  chrom start end   strand label      iid               \n",
       "1 chr1  65433 65519 +      productive chr1:65433:65519:+\n",
       "2 chr1  65573 69036 +      productive chr1:65573:69036:+"
      ]
     },
     "metadata": {},
     "output_type": "display_data"
    }
   ],
   "source": [
    "introns_gb_combined[1:2,]"
   ]
  },
  {
   "cell_type": "code",
   "execution_count": 34,
   "id": "3cb723cb-eb3e-4033-b7f8-e90851620410",
   "metadata": {},
   "outputs": [],
   "source": [
    "introns_gb_combined[, iid := paste(chrom, start, end, strand, sep=\":\")]"
   ]
  },
  {
   "cell_type": "code",
   "execution_count": 36,
   "id": "466636b8-7b1c-41ec-936d-e38eeb78aac0",
   "metadata": {},
   "outputs": [
    {
     "data": {
      "text/html": [
       "<table class=\"dataframe\">\n",
       "<caption>A data.table: 2 × 10</caption>\n",
       "<thead>\n",
       "\t<tr><th scope=col>chrom</th><th scope=col>start</th><th scope=col>end</th><th scope=col>strand</th><th scope=col>NewAnnotation</th><th scope=col>gene</th><th scope=col>symbol</th><th scope=col>SuperAnnotation</th><th scope=col>SemiSupergroupAnnotations</th><th scope=col>iid</th></tr>\n",
       "\t<tr><th scope=col>&lt;chr&gt;</th><th scope=col>&lt;int&gt;</th><th scope=col>&lt;dbl&gt;</th><th scope=col>&lt;chr&gt;</th><th scope=col>&lt;chr&gt;</th><th scope=col>&lt;chr&gt;</th><th scope=col>&lt;chr&gt;</th><th scope=col>&lt;chr&gt;</th><th scope=col>&lt;chr&gt;</th><th scope=col>&lt;chr&gt;</th></tr>\n",
       "</thead>\n",
       "<tbody>\n",
       "\t<tr><td>chr1</td><td>14501</td><td>15004</td><td>-</td><td>unprocessed_pseudogene.gencode        </td><td>ENSG00000227232.5</td><td>WASH7P</td><td>AnnotatedJunc_NoncodingGene  </td><td>uniquely psueodgene tag</td><td>chr1:14501:15004:-</td></tr>\n",
       "\t<tr><td>chr1</td><td>14829</td><td>14929</td><td>-</td><td>unprocessed_pseudogene.novel_junctions</td><td>ENSG00000227232.5</td><td>WASH7P</td><td>UnannotatedJunc_NoncodingGene</td><td>overlaps pseudogene    </td><td>chr1:14829:14929:-</td></tr>\n",
       "</tbody>\n",
       "</table>\n"
      ],
      "text/latex": [
       "A data.table: 2 × 10\n",
       "\\begin{tabular}{llllllllll}\n",
       " chrom & start & end & strand & NewAnnotation & gene & symbol & SuperAnnotation & SemiSupergroupAnnotations & iid\\\\\n",
       " <chr> & <int> & <dbl> & <chr> & <chr> & <chr> & <chr> & <chr> & <chr> & <chr>\\\\\n",
       "\\hline\n",
       "\t chr1 & 14501 & 15004 & - & unprocessed\\_pseudogene.gencode         & ENSG00000227232.5 & WASH7P & AnnotatedJunc\\_NoncodingGene   & uniquely psueodgene tag & chr1:14501:15004:-\\\\\n",
       "\t chr1 & 14829 & 14929 & - & unprocessed\\_pseudogene.novel\\_junctions & ENSG00000227232.5 & WASH7P & UnannotatedJunc\\_NoncodingGene & overlaps pseudogene     & chr1:14829:14929:-\\\\\n",
       "\\end{tabular}\n"
      ],
      "text/markdown": [
       "\n",
       "A data.table: 2 × 10\n",
       "\n",
       "| chrom &lt;chr&gt; | start &lt;int&gt; | end &lt;dbl&gt; | strand &lt;chr&gt; | NewAnnotation &lt;chr&gt; | gene &lt;chr&gt; | symbol &lt;chr&gt; | SuperAnnotation &lt;chr&gt; | SemiSupergroupAnnotations &lt;chr&gt; | iid &lt;chr&gt; |\n",
       "|---|---|---|---|---|---|---|---|---|---|\n",
       "| chr1 | 14501 | 15004 | - | unprocessed_pseudogene.gencode         | ENSG00000227232.5 | WASH7P | AnnotatedJunc_NoncodingGene   | uniquely psueodgene tag | chr1:14501:15004:- |\n",
       "| chr1 | 14829 | 14929 | - | unprocessed_pseudogene.novel_junctions | ENSG00000227232.5 | WASH7P | UnannotatedJunc_NoncodingGene | overlaps pseudogene     | chr1:14829:14929:- |\n",
       "\n"
      ],
      "text/plain": [
       "  chrom start end   strand NewAnnotation                         \n",
       "1 chr1  14501 15004 -      unprocessed_pseudogene.gencode        \n",
       "2 chr1  14829 14929 -      unprocessed_pseudogene.novel_junctions\n",
       "  gene              symbol SuperAnnotation              \n",
       "1 ENSG00000227232.5 WASH7P AnnotatedJunc_NoncodingGene  \n",
       "2 ENSG00000227232.5 WASH7P UnannotatedJunc_NoncodingGene\n",
       "  SemiSupergroupAnnotations iid               \n",
       "1 uniquely psueodgene tag   chr1:14501:15004:-\n",
       "2 overlaps pseudogene       chr1:14829:14929:-"
      ]
     },
     "metadata": {},
     "output_type": "display_data"
    }
   ],
   "source": [
    "introns_ben[1:2]"
   ]
  },
  {
   "cell_type": "markdown",
   "id": "56c74a0c-d6f8-4f59-b3fc-952226926e19",
   "metadata": {},
   "source": [
    "- All but 29 of Ben's ~250K Annotated_CodingGene introns are found in gencode V37+V43 productive introns"
   ]
  },
  {
   "cell_type": "code",
   "execution_count": 39,
   "id": "902149b9-42dc-47aa-86de-f03497d0ae3a",
   "metadata": {},
   "outputs": [
    {
     "data": {
      "text/html": [
       "250718"
      ],
      "text/latex": [
       "250718"
      ],
      "text/markdown": [
       "250718"
      ],
      "text/plain": [
       "[1] 250718"
      ]
     },
     "metadata": {},
     "output_type": "display_data"
    },
    {
     "data": {
      "text/html": [
       "458713"
      ],
      "text/latex": [
       "458713"
      ],
      "text/markdown": [
       "458713"
      ],
      "text/plain": [
       "[1] 458713"
      ]
     },
     "metadata": {},
     "output_type": "display_data"
    },
    {
     "data": {
      "text/html": [
       "256785"
      ],
      "text/latex": [
       "256785"
      ],
      "text/markdown": [
       "256785"
      ],
      "text/plain": [
       "[1] 256785"
      ]
     },
     "metadata": {},
     "output_type": "display_data"
    }
   ],
   "source": [
    "intersect(introns_ben$iid, introns_gb_combined$iid) %>% uniqueN\n",
    "uniqueN(introns_ben$iid)\n",
    "uniqueN(introns_gb_combined$iid)"
   ]
  },
  {
   "cell_type": "code",
   "execution_count": 37,
   "id": "ad8788c9-59f5-4215-87fa-a4df59f1576d",
   "metadata": {},
   "outputs": [
    {
     "data": {
      "text/html": [
       "<table class=\"dataframe\">\n",
       "<caption>A data.table: 2 × 4</caption>\n",
       "<thead>\n",
       "\t<tr><th scope=col>inGB</th><th scope=col>inBEN</th><th scope=col>N</th><th scope=col>P</th></tr>\n",
       "\t<tr><th scope=col>&lt;lgl&gt;</th><th scope=col>&lt;lgl&gt;</th><th scope=col>&lt;int&gt;</th><th scope=col>&lt;dbl&gt;</th></tr>\n",
       "</thead>\n",
       "<tbody>\n",
       "\t<tr><td> TRUE</td><td>TRUE</td><td>248971</td><td>0.9998835341</td></tr>\n",
       "\t<tr><td>FALSE</td><td>TRUE</td><td>    29</td><td>0.0001164659</td></tr>\n",
       "</tbody>\n",
       "</table>\n"
      ],
      "text/latex": [
       "A data.table: 2 × 4\n",
       "\\begin{tabular}{llll}\n",
       " inGB & inBEN & N & P\\\\\n",
       " <lgl> & <lgl> & <int> & <dbl>\\\\\n",
       "\\hline\n",
       "\t  TRUE & TRUE & 248971 & 0.9998835341\\\\\n",
       "\t FALSE & TRUE &     29 & 0.0001164659\\\\\n",
       "\\end{tabular}\n"
      ],
      "text/markdown": [
       "\n",
       "A data.table: 2 × 4\n",
       "\n",
       "| inGB &lt;lgl&gt; | inBEN &lt;lgl&gt; | N &lt;int&gt; | P &lt;dbl&gt; |\n",
       "|---|---|---|---|\n",
       "|  TRUE | TRUE | 248971 | 0.9998835341 |\n",
       "| FALSE | TRUE |     29 | 0.0001164659 |\n",
       "\n"
      ],
      "text/plain": [
       "  inGB  inBEN N      P           \n",
       "1  TRUE TRUE  248971 0.9998835341\n",
       "2 FALSE TRUE      29 0.0001164659"
      ]
     },
     "metadata": {},
     "output_type": "display_data"
    }
   ],
   "source": [
    "full_join(x = introns_gb_combined[, .(iid, label)],\n",
    "          y = introns_ben[str_detect(SuperAnnotation, \"Anno\"), .(iid, gene, SuperAnnotation)],\n",
    "          by = c('iid'),\n",
    "          suffix = c(\"_gb\", '_ben')\n",
    "         ) %>% \n",
    "    .[str_detect(SuperAnnotation, \"AnnotatedJunc_ProductiveCodingGene\"), .(N=length(unique(iid))), by = .(inGB = !is.na(label), inBEN = !is.na(SuperAnnotation))] %>% \n",
    "    .[, .(inGB, inBEN, N, P=N/sum(N))]"
   ]
  },
  {
   "cell_type": "markdown",
   "id": "c36b0605-870b-404a-8542-305aa33a43a4",
   "metadata": {},
   "source": [
    "# Make proper Gencode V37+V43 productive introns for leafcutter2\n",
    "\n",
    "\n",
    "> Problem: the datatable include 1 intron to many gid or tids\n",
    "\n",
    "> solution: \n",
    "> Since all of these introns are productive, we only need to keep coordinates and column to label productive, then collapse."
   ]
  },
  {
   "cell_type": "code",
   "execution_count": 25,
   "id": "62d5fa63-7464-4e65-a23a-8f40387ca5f8",
   "metadata": {},
   "outputs": [
    {
     "data": {
      "text/html": [
       "<table class=\"dataframe\">\n",
       "<caption>A data.table: 5 × 8</caption>\n",
       "<thead>\n",
       "\t<tr><th scope=col>chrom</th><th scope=col>start</th><th scope=col>end</th><th scope=col>strand</th><th scope=col>iid</th><th scope=col>gid</th><th scope=col>tid</th><th scope=col>gene</th></tr>\n",
       "\t<tr><th scope=col>&lt;chr&gt;</th><th scope=col>&lt;int&gt;</th><th scope=col>&lt;int&gt;</th><th scope=col>&lt;chr&gt;</th><th scope=col>&lt;chr&gt;</th><th scope=col>&lt;chr&gt;</th><th scope=col>&lt;chr&gt;</th><th scope=col>&lt;chr&gt;</th></tr>\n",
       "</thead>\n",
       "<tbody>\n",
       "\t<tr><td>chr1</td><td> 65433</td><td> 65519</td><td>+</td><td>chr1:65433:65519:+  </td><td>ENSG00000186092.7 </td><td>ENST00000641515.2</td><td>OR4F5 </td></tr>\n",
       "\t<tr><td>chr1</td><td> 65573</td><td> 69036</td><td>+</td><td>chr1:65573:69036:+  </td><td>ENSG00000186092.7 </td><td>ENST00000641515.2</td><td>OR4F5 </td></tr>\n",
       "\t<tr><td>chr1</td><td>924948</td><td>925921</td><td>+</td><td>chr1:924948:925921:+</td><td>ENSG00000187634.13</td><td>ENST00000616016.5</td><td>SAMD11</td></tr>\n",
       "\t<tr><td>chr1</td><td>926013</td><td>930154</td><td>+</td><td>chr1:926013:930154:+</td><td>ENSG00000187634.13</td><td>ENST00000616016.5</td><td>SAMD11</td></tr>\n",
       "\t<tr><td>chr1</td><td>930336</td><td>931038</td><td>+</td><td>chr1:930336:931038:+</td><td>ENSG00000187634.13</td><td>ENST00000616016.5</td><td>SAMD11</td></tr>\n",
       "</tbody>\n",
       "</table>\n"
      ],
      "text/latex": [
       "A data.table: 5 × 8\n",
       "\\begin{tabular}{llllllll}\n",
       " chrom & start & end & strand & iid & gid & tid & gene\\\\\n",
       " <chr> & <int> & <int> & <chr> & <chr> & <chr> & <chr> & <chr>\\\\\n",
       "\\hline\n",
       "\t chr1 &  65433 &  65519 & + & chr1:65433:65519:+   & ENSG00000186092.7  & ENST00000641515.2 & OR4F5 \\\\\n",
       "\t chr1 &  65573 &  69036 & + & chr1:65573:69036:+   & ENSG00000186092.7  & ENST00000641515.2 & OR4F5 \\\\\n",
       "\t chr1 & 924948 & 925921 & + & chr1:924948:925921:+ & ENSG00000187634.13 & ENST00000616016.5 & SAMD11\\\\\n",
       "\t chr1 & 926013 & 930154 & + & chr1:926013:930154:+ & ENSG00000187634.13 & ENST00000616016.5 & SAMD11\\\\\n",
       "\t chr1 & 930336 & 931038 & + & chr1:930336:931038:+ & ENSG00000187634.13 & ENST00000616016.5 & SAMD11\\\\\n",
       "\\end{tabular}\n"
      ],
      "text/markdown": [
       "\n",
       "A data.table: 5 × 8\n",
       "\n",
       "| chrom &lt;chr&gt; | start &lt;int&gt; | end &lt;int&gt; | strand &lt;chr&gt; | iid &lt;chr&gt; | gid &lt;chr&gt; | tid &lt;chr&gt; | gene &lt;chr&gt; |\n",
       "|---|---|---|---|---|---|---|---|\n",
       "| chr1 |  65433 |  65519 | + | chr1:65433:65519:+   | ENSG00000186092.7  | ENST00000641515.2 | OR4F5  |\n",
       "| chr1 |  65573 |  69036 | + | chr1:65573:69036:+   | ENSG00000186092.7  | ENST00000641515.2 | OR4F5  |\n",
       "| chr1 | 924948 | 925921 | + | chr1:924948:925921:+ | ENSG00000187634.13 | ENST00000616016.5 | SAMD11 |\n",
       "| chr1 | 926013 | 930154 | + | chr1:926013:930154:+ | ENSG00000187634.13 | ENST00000616016.5 | SAMD11 |\n",
       "| chr1 | 930336 | 931038 | + | chr1:930336:931038:+ | ENSG00000187634.13 | ENST00000616016.5 | SAMD11 |\n",
       "\n"
      ],
      "text/plain": [
       "  chrom start  end    strand iid                  gid               \n",
       "1 chr1   65433  65519 +      chr1:65433:65519:+   ENSG00000186092.7 \n",
       "2 chr1   65573  69036 +      chr1:65573:69036:+   ENSG00000186092.7 \n",
       "3 chr1  924948 925921 +      chr1:924948:925921:+ ENSG00000187634.13\n",
       "4 chr1  926013 930154 +      chr1:926013:930154:+ ENSG00000187634.13\n",
       "5 chr1  930336 931038 +      chr1:930336:931038:+ ENSG00000187634.13\n",
       "  tid               gene  \n",
       "1 ENST00000641515.2 OR4F5 \n",
       "2 ENST00000641515.2 OR4F5 \n",
       "3 ENST00000616016.5 SAMD11\n",
       "4 ENST00000616016.5 SAMD11\n",
       "5 ENST00000616016.5 SAMD11"
      ]
     },
     "metadata": {},
     "output_type": "display_data"
    }
   ],
   "source": [
    "introns_gb_combined[1:5]"
   ]
  },
  {
   "cell_type": "code",
   "execution_count": 28,
   "id": "017cfeb9-af0b-4778-9894-8de230effacf",
   "metadata": {},
   "outputs": [
    {
     "data": {
      "text/html": [
       "<table class=\"dataframe\">\n",
       "<caption>A data.table: 256785 × 5</caption>\n",
       "<thead>\n",
       "\t<tr><th scope=col>chrom</th><th scope=col>start</th><th scope=col>end</th><th scope=col>strand</th><th scope=col>label</th></tr>\n",
       "\t<tr><th scope=col>&lt;chr&gt;</th><th scope=col>&lt;int&gt;</th><th scope=col>&lt;int&gt;</th><th scope=col>&lt;chr&gt;</th><th scope=col>&lt;chr&gt;</th></tr>\n",
       "</thead>\n",
       "<tbody>\n",
       "\t<tr><td>chr1</td><td> 65433</td><td> 65519</td><td>+</td><td>productive</td></tr>\n",
       "\t<tr><td>chr1</td><td> 65573</td><td> 69036</td><td>+</td><td>productive</td></tr>\n",
       "\t<tr><td>chr1</td><td>924948</td><td>925921</td><td>+</td><td>productive</td></tr>\n",
       "\t<tr><td>chr1</td><td>926013</td><td>930154</td><td>+</td><td>productive</td></tr>\n",
       "\t<tr><td>chr1</td><td>930336</td><td>931038</td><td>+</td><td>productive</td></tr>\n",
       "\t<tr><td>chr1</td><td>931089</td><td>935771</td><td>+</td><td>productive</td></tr>\n",
       "\t<tr><td>chr1</td><td>935896</td><td>939039</td><td>+</td><td>productive</td></tr>\n",
       "\t<tr><td>chr1</td><td>939129</td><td>939274</td><td>+</td><td>productive</td></tr>\n",
       "\t<tr><td>chr1</td><td>939412</td><td>941143</td><td>+</td><td>productive</td></tr>\n",
       "\t<tr><td>chr1</td><td>941306</td><td>942135</td><td>+</td><td>productive</td></tr>\n",
       "\t<tr><td>chr1</td><td>942251</td><td>942409</td><td>+</td><td>productive</td></tr>\n",
       "\t<tr><td>chr1</td><td>942488</td><td>942558</td><td>+</td><td>productive</td></tr>\n",
       "\t<tr><td>chr1</td><td>943058</td><td>943252</td><td>+</td><td>productive</td></tr>\n",
       "\t<tr><td>chr1</td><td>943377</td><td>943697</td><td>+</td><td>productive</td></tr>\n",
       "\t<tr><td>chr1</td><td>943808</td><td>943907</td><td>+</td><td>productive</td></tr>\n",
       "\t<tr><td>chr1</td><td>939129</td><td>939271</td><td>+</td><td>productive</td></tr>\n",
       "\t<tr><td>chr1</td><td>925189</td><td>925921</td><td>+</td><td>productive</td></tr>\n",
       "\t<tr><td>chr1</td><td>925800</td><td>925921</td><td>+</td><td>productive</td></tr>\n",
       "\t<tr><td>chr1</td><td>939460</td><td>941143</td><td>+</td><td>productive</td></tr>\n",
       "\t<tr><td>chr1</td><td>939412</td><td>942409</td><td>+</td><td>productive</td></tr>\n",
       "\t<tr><td>chr1</td><td>939129</td><td>941143</td><td>+</td><td>productive</td></tr>\n",
       "\t<tr><td>chr1</td><td>930336</td><td>935771</td><td>+</td><td>productive</td></tr>\n",
       "\t<tr><td>chr1</td><td>943808</td><td>943970</td><td>+</td><td>productive</td></tr>\n",
       "\t<tr><td>chr1</td><td>944800</td><td>945056</td><td>-</td><td>productive</td></tr>\n",
       "\t<tr><td>chr1</td><td>945146</td><td>945517</td><td>-</td><td>productive</td></tr>\n",
       "\t<tr><td>chr1</td><td>945653</td><td>946172</td><td>-</td><td>productive</td></tr>\n",
       "\t<tr><td>chr1</td><td>946286</td><td>946401</td><td>-</td><td>productive</td></tr>\n",
       "\t<tr><td>chr1</td><td>946545</td><td>948130</td><td>-</td><td>productive</td></tr>\n",
       "\t<tr><td>chr1</td><td>948232</td><td>948489</td><td>-</td><td>productive</td></tr>\n",
       "\t<tr><td>chr1</td><td>948603</td><td>951126</td><td>-</td><td>productive</td></tr>\n",
       "\t<tr><td>⋮</td><td>⋮</td><td>⋮</td><td>⋮</td><td>⋮</td></tr>\n",
       "\t<tr><td>chrX</td><td>152918171</td><td>152918982</td><td>+</td><td>productive</td></tr>\n",
       "\t<tr><td>chrX</td><td>152922256</td><td>152928574</td><td>+</td><td>productive</td></tr>\n",
       "\t<tr><td>chrX</td><td>152928661</td><td>152938073</td><td>+</td><td>productive</td></tr>\n",
       "\t<tr><td>chrX</td><td>153790299</td><td>153790805</td><td>-</td><td>productive</td></tr>\n",
       "\t<tr><td>chrX</td><td>153921809</td><td>153922123</td><td>-</td><td>productive</td></tr>\n",
       "\t<tr><td>chrX</td><td>154768312</td><td>154769166</td><td>+</td><td>productive</td></tr>\n",
       "\t<tr><td>chrX</td><td>154767382</td><td>154768268</td><td>+</td><td>productive</td></tr>\n",
       "\t<tr><td>chrX</td><td>155077283</td><td>155078609</td><td>+</td><td>productive</td></tr>\n",
       "\t<tr><td>chrX</td><td>155116754</td><td>155119995</td><td>+</td><td>productive</td></tr>\n",
       "\t<tr><td>chrX</td><td>155071658</td><td>155073367</td><td>+</td><td>productive</td></tr>\n",
       "\t<tr><td>chrY</td><td>  1282779</td><td>  1288518</td><td>+</td><td>productive</td></tr>\n",
       "\t<tr><td>chrY</td><td>  9337596</td><td>  9337875</td><td>+</td><td>productive</td></tr>\n",
       "\t<tr><td>chrY</td><td>  9357929</td><td>  9358190</td><td>+</td><td>productive</td></tr>\n",
       "\t<tr><td>chrY</td><td>  9398553</td><td>  9398814</td><td>+</td><td>productive</td></tr>\n",
       "\t<tr><td>chrY</td><td> 21523590</td><td> 21524709</td><td>+</td><td>productive</td></tr>\n",
       "\t<tr><td>chrY</td><td> 21524798</td><td> 21548749</td><td>+</td><td>productive</td></tr>\n",
       "\t<tr><td>chrY</td><td> 21514037</td><td> 21540597</td><td>+</td><td>productive</td></tr>\n",
       "\t<tr><td>chrY</td><td> 21547131</td><td> 21548249</td><td>+</td><td>productive</td></tr>\n",
       "\t<tr><td>chrY</td><td> 23241677</td><td> 23248762</td><td>+</td><td>productive</td></tr>\n",
       "\t<tr><td>chrY</td><td> 23248834</td><td> 23280012</td><td>+</td><td>productive</td></tr>\n",
       "\t<tr><td>chrY</td><td> 23236899</td><td> 23241605</td><td>+</td><td>productive</td></tr>\n",
       "\t<tr><td>chrY</td><td> 23241677</td><td> 23246385</td><td>+</td><td>productive</td></tr>\n",
       "\t<tr><td>chrY</td><td> 23248834</td><td> 23253540</td><td>+</td><td>productive</td></tr>\n",
       "\t<tr><td>chrY</td><td> 23255989</td><td> 23280012</td><td>+</td><td>productive</td></tr>\n",
       "\t<tr><td>chrY</td><td> 23248834</td><td> 23265706</td><td>+</td><td>productive</td></tr>\n",
       "\t<tr><td>chrY</td><td> 23232112</td><td> 23239209</td><td>+</td><td>productive</td></tr>\n",
       "\t<tr><td>chrY</td><td> 23239281</td><td> 23265706</td><td>+</td><td>productive</td></tr>\n",
       "\t<tr><td>chrY</td><td> 23270547</td><td> 23280012</td><td>+</td><td>productive</td></tr>\n",
       "\t<tr><td>chrY</td><td> 23682265</td><td> 23691756</td><td>-</td><td>productive</td></tr>\n",
       "\t<tr><td>chrY</td><td> 23691872</td><td> 23694458</td><td>-</td><td>productive</td></tr>\n",
       "</tbody>\n",
       "</table>\n"
      ],
      "text/latex": [
       "A data.table: 256785 × 5\n",
       "\\begin{tabular}{lllll}\n",
       " chrom & start & end & strand & label\\\\\n",
       " <chr> & <int> & <int> & <chr> & <chr>\\\\\n",
       "\\hline\n",
       "\t chr1 &  65433 &  65519 & + & productive\\\\\n",
       "\t chr1 &  65573 &  69036 & + & productive\\\\\n",
       "\t chr1 & 924948 & 925921 & + & productive\\\\\n",
       "\t chr1 & 926013 & 930154 & + & productive\\\\\n",
       "\t chr1 & 930336 & 931038 & + & productive\\\\\n",
       "\t chr1 & 931089 & 935771 & + & productive\\\\\n",
       "\t chr1 & 935896 & 939039 & + & productive\\\\\n",
       "\t chr1 & 939129 & 939274 & + & productive\\\\\n",
       "\t chr1 & 939412 & 941143 & + & productive\\\\\n",
       "\t chr1 & 941306 & 942135 & + & productive\\\\\n",
       "\t chr1 & 942251 & 942409 & + & productive\\\\\n",
       "\t chr1 & 942488 & 942558 & + & productive\\\\\n",
       "\t chr1 & 943058 & 943252 & + & productive\\\\\n",
       "\t chr1 & 943377 & 943697 & + & productive\\\\\n",
       "\t chr1 & 943808 & 943907 & + & productive\\\\\n",
       "\t chr1 & 939129 & 939271 & + & productive\\\\\n",
       "\t chr1 & 925189 & 925921 & + & productive\\\\\n",
       "\t chr1 & 925800 & 925921 & + & productive\\\\\n",
       "\t chr1 & 939460 & 941143 & + & productive\\\\\n",
       "\t chr1 & 939412 & 942409 & + & productive\\\\\n",
       "\t chr1 & 939129 & 941143 & + & productive\\\\\n",
       "\t chr1 & 930336 & 935771 & + & productive\\\\\n",
       "\t chr1 & 943808 & 943970 & + & productive\\\\\n",
       "\t chr1 & 944800 & 945056 & - & productive\\\\\n",
       "\t chr1 & 945146 & 945517 & - & productive\\\\\n",
       "\t chr1 & 945653 & 946172 & - & productive\\\\\n",
       "\t chr1 & 946286 & 946401 & - & productive\\\\\n",
       "\t chr1 & 946545 & 948130 & - & productive\\\\\n",
       "\t chr1 & 948232 & 948489 & - & productive\\\\\n",
       "\t chr1 & 948603 & 951126 & - & productive\\\\\n",
       "\t ⋮ & ⋮ & ⋮ & ⋮ & ⋮\\\\\n",
       "\t chrX & 152918171 & 152918982 & + & productive\\\\\n",
       "\t chrX & 152922256 & 152928574 & + & productive\\\\\n",
       "\t chrX & 152928661 & 152938073 & + & productive\\\\\n",
       "\t chrX & 153790299 & 153790805 & - & productive\\\\\n",
       "\t chrX & 153921809 & 153922123 & - & productive\\\\\n",
       "\t chrX & 154768312 & 154769166 & + & productive\\\\\n",
       "\t chrX & 154767382 & 154768268 & + & productive\\\\\n",
       "\t chrX & 155077283 & 155078609 & + & productive\\\\\n",
       "\t chrX & 155116754 & 155119995 & + & productive\\\\\n",
       "\t chrX & 155071658 & 155073367 & + & productive\\\\\n",
       "\t chrY &   1282779 &   1288518 & + & productive\\\\\n",
       "\t chrY &   9337596 &   9337875 & + & productive\\\\\n",
       "\t chrY &   9357929 &   9358190 & + & productive\\\\\n",
       "\t chrY &   9398553 &   9398814 & + & productive\\\\\n",
       "\t chrY &  21523590 &  21524709 & + & productive\\\\\n",
       "\t chrY &  21524798 &  21548749 & + & productive\\\\\n",
       "\t chrY &  21514037 &  21540597 & + & productive\\\\\n",
       "\t chrY &  21547131 &  21548249 & + & productive\\\\\n",
       "\t chrY &  23241677 &  23248762 & + & productive\\\\\n",
       "\t chrY &  23248834 &  23280012 & + & productive\\\\\n",
       "\t chrY &  23236899 &  23241605 & + & productive\\\\\n",
       "\t chrY &  23241677 &  23246385 & + & productive\\\\\n",
       "\t chrY &  23248834 &  23253540 & + & productive\\\\\n",
       "\t chrY &  23255989 &  23280012 & + & productive\\\\\n",
       "\t chrY &  23248834 &  23265706 & + & productive\\\\\n",
       "\t chrY &  23232112 &  23239209 & + & productive\\\\\n",
       "\t chrY &  23239281 &  23265706 & + & productive\\\\\n",
       "\t chrY &  23270547 &  23280012 & + & productive\\\\\n",
       "\t chrY &  23682265 &  23691756 & - & productive\\\\\n",
       "\t chrY &  23691872 &  23694458 & - & productive\\\\\n",
       "\\end{tabular}\n"
      ],
      "text/markdown": [
       "\n",
       "A data.table: 256785 × 5\n",
       "\n",
       "| chrom &lt;chr&gt; | start &lt;int&gt; | end &lt;int&gt; | strand &lt;chr&gt; | label &lt;chr&gt; |\n",
       "|---|---|---|---|---|\n",
       "| chr1 |  65433 |  65519 | + | productive |\n",
       "| chr1 |  65573 |  69036 | + | productive |\n",
       "| chr1 | 924948 | 925921 | + | productive |\n",
       "| chr1 | 926013 | 930154 | + | productive |\n",
       "| chr1 | 930336 | 931038 | + | productive |\n",
       "| chr1 | 931089 | 935771 | + | productive |\n",
       "| chr1 | 935896 | 939039 | + | productive |\n",
       "| chr1 | 939129 | 939274 | + | productive |\n",
       "| chr1 | 939412 | 941143 | + | productive |\n",
       "| chr1 | 941306 | 942135 | + | productive |\n",
       "| chr1 | 942251 | 942409 | + | productive |\n",
       "| chr1 | 942488 | 942558 | + | productive |\n",
       "| chr1 | 943058 | 943252 | + | productive |\n",
       "| chr1 | 943377 | 943697 | + | productive |\n",
       "| chr1 | 943808 | 943907 | + | productive |\n",
       "| chr1 | 939129 | 939271 | + | productive |\n",
       "| chr1 | 925189 | 925921 | + | productive |\n",
       "| chr1 | 925800 | 925921 | + | productive |\n",
       "| chr1 | 939460 | 941143 | + | productive |\n",
       "| chr1 | 939412 | 942409 | + | productive |\n",
       "| chr1 | 939129 | 941143 | + | productive |\n",
       "| chr1 | 930336 | 935771 | + | productive |\n",
       "| chr1 | 943808 | 943970 | + | productive |\n",
       "| chr1 | 944800 | 945056 | - | productive |\n",
       "| chr1 | 945146 | 945517 | - | productive |\n",
       "| chr1 | 945653 | 946172 | - | productive |\n",
       "| chr1 | 946286 | 946401 | - | productive |\n",
       "| chr1 | 946545 | 948130 | - | productive |\n",
       "| chr1 | 948232 | 948489 | - | productive |\n",
       "| chr1 | 948603 | 951126 | - | productive |\n",
       "| ⋮ | ⋮ | ⋮ | ⋮ | ⋮ |\n",
       "| chrX | 152918171 | 152918982 | + | productive |\n",
       "| chrX | 152922256 | 152928574 | + | productive |\n",
       "| chrX | 152928661 | 152938073 | + | productive |\n",
       "| chrX | 153790299 | 153790805 | - | productive |\n",
       "| chrX | 153921809 | 153922123 | - | productive |\n",
       "| chrX | 154768312 | 154769166 | + | productive |\n",
       "| chrX | 154767382 | 154768268 | + | productive |\n",
       "| chrX | 155077283 | 155078609 | + | productive |\n",
       "| chrX | 155116754 | 155119995 | + | productive |\n",
       "| chrX | 155071658 | 155073367 | + | productive |\n",
       "| chrY |   1282779 |   1288518 | + | productive |\n",
       "| chrY |   9337596 |   9337875 | + | productive |\n",
       "| chrY |   9357929 |   9358190 | + | productive |\n",
       "| chrY |   9398553 |   9398814 | + | productive |\n",
       "| chrY |  21523590 |  21524709 | + | productive |\n",
       "| chrY |  21524798 |  21548749 | + | productive |\n",
       "| chrY |  21514037 |  21540597 | + | productive |\n",
       "| chrY |  21547131 |  21548249 | + | productive |\n",
       "| chrY |  23241677 |  23248762 | + | productive |\n",
       "| chrY |  23248834 |  23280012 | + | productive |\n",
       "| chrY |  23236899 |  23241605 | + | productive |\n",
       "| chrY |  23241677 |  23246385 | + | productive |\n",
       "| chrY |  23248834 |  23253540 | + | productive |\n",
       "| chrY |  23255989 |  23280012 | + | productive |\n",
       "| chrY |  23248834 |  23265706 | + | productive |\n",
       "| chrY |  23232112 |  23239209 | + | productive |\n",
       "| chrY |  23239281 |  23265706 | + | productive |\n",
       "| chrY |  23270547 |  23280012 | + | productive |\n",
       "| chrY |  23682265 |  23691756 | - | productive |\n",
       "| chrY |  23691872 |  23694458 | - | productive |\n",
       "\n"
      ],
      "text/plain": [
       "       chrom start     end       strand label     \n",
       "1      chr1   65433     65519    +      productive\n",
       "2      chr1   65573     69036    +      productive\n",
       "3      chr1  924948    925921    +      productive\n",
       "4      chr1  926013    930154    +      productive\n",
       "5      chr1  930336    931038    +      productive\n",
       "6      chr1  931089    935771    +      productive\n",
       "7      chr1  935896    939039    +      productive\n",
       "8      chr1  939129    939274    +      productive\n",
       "9      chr1  939412    941143    +      productive\n",
       "10     chr1  941306    942135    +      productive\n",
       "11     chr1  942251    942409    +      productive\n",
       "12     chr1  942488    942558    +      productive\n",
       "13     chr1  943058    943252    +      productive\n",
       "14     chr1  943377    943697    +      productive\n",
       "15     chr1  943808    943907    +      productive\n",
       "16     chr1  939129    939271    +      productive\n",
       "17     chr1  925189    925921    +      productive\n",
       "18     chr1  925800    925921    +      productive\n",
       "19     chr1  939460    941143    +      productive\n",
       "20     chr1  939412    942409    +      productive\n",
       "21     chr1  939129    941143    +      productive\n",
       "22     chr1  930336    935771    +      productive\n",
       "23     chr1  943808    943970    +      productive\n",
       "24     chr1  944800    945056    -      productive\n",
       "25     chr1  945146    945517    -      productive\n",
       "26     chr1  945653    946172    -      productive\n",
       "27     chr1  946286    946401    -      productive\n",
       "28     chr1  946545    948130    -      productive\n",
       "29     chr1  948232    948489    -      productive\n",
       "30     chr1  948603    951126    -      productive\n",
       "⋮      ⋮     ⋮         ⋮         ⋮      ⋮         \n",
       "256756 chrX  152918171 152918982 +      productive\n",
       "256757 chrX  152922256 152928574 +      productive\n",
       "256758 chrX  152928661 152938073 +      productive\n",
       "256759 chrX  153790299 153790805 -      productive\n",
       "256760 chrX  153921809 153922123 -      productive\n",
       "256761 chrX  154768312 154769166 +      productive\n",
       "256762 chrX  154767382 154768268 +      productive\n",
       "256763 chrX  155077283 155078609 +      productive\n",
       "256764 chrX  155116754 155119995 +      productive\n",
       "256765 chrX  155071658 155073367 +      productive\n",
       "256766 chrY    1282779   1288518 +      productive\n",
       "256767 chrY    9337596   9337875 +      productive\n",
       "256768 chrY    9357929   9358190 +      productive\n",
       "256769 chrY    9398553   9398814 +      productive\n",
       "256770 chrY   21523590  21524709 +      productive\n",
       "256771 chrY   21524798  21548749 +      productive\n",
       "256772 chrY   21514037  21540597 +      productive\n",
       "256773 chrY   21547131  21548249 +      productive\n",
       "256774 chrY   23241677  23248762 +      productive\n",
       "256775 chrY   23248834  23280012 +      productive\n",
       "256776 chrY   23236899  23241605 +      productive\n",
       "256777 chrY   23241677  23246385 +      productive\n",
       "256778 chrY   23248834  23253540 +      productive\n",
       "256779 chrY   23255989  23280012 +      productive\n",
       "256780 chrY   23248834  23265706 +      productive\n",
       "256781 chrY   23232112  23239209 +      productive\n",
       "256782 chrY   23239281  23265706 +      productive\n",
       "256783 chrY   23270547  23280012 +      productive\n",
       "256784 chrY   23682265  23691756 -      productive\n",
       "256785 chrY   23691872  23694458 -      productive"
      ]
     },
     "metadata": {},
     "output_type": "display_data"
    }
   ],
   "source": [
    "introns_gb_combined[, .(chrom, start, end, strand, label = \"productive\")] %>% unique"
   ]
  },
  {
   "cell_type": "code",
   "execution_count": null,
   "id": "17b20a8f-7887-4158-a917-eacbab094b75",
   "metadata": {},
   "outputs": [],
   "source": []
  }
 ],
 "metadata": {
  "kernelspec": {
   "display_name": "R4.1.1",
   "language": "R",
   "name": "r4.1.1"
  },
  "language_info": {
   "codemirror_mode": "r",
   "file_extension": ".r",
   "mimetype": "text/x-r-source",
   "name": "R",
   "pygments_lexer": "r",
   "version": "4.1.1"
  }
 },
 "nbformat": 4,
 "nbformat_minor": 5
}
