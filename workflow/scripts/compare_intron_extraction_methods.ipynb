{
 "cells": [
  {
   "cell_type": "raw",
   "id": "d9c71913-5170-4e0a-a9e5-af9429e5735c",
   "metadata": {},
   "source": [
    "---\n",
    "title: \"Compare intron extractions using leafviz's perl script and gtftk tools\"\n",
    "execute: \n",
    "    warning: false\n",
    "    message: false\n",
    "    echo: false\n",
    "jupyter:\n",
    "    language: python\n",
    "---"
   ]
  },
  {
   "cell_type": "markdown",
   "id": "1561944b-745c-430f-a37b-4873023dd4b5",
   "metadata": {},
   "source": [
    "# Introduction\n",
    "\n",
    "Intron annotation files I used can come from two sources: \n",
    "\n",
    "1. using leafcutter's leafviz/gtf2leafcutter.pl script\n",
    "2. using gtftookits `gtftk` methods\n",
    "\n",
    "See details of extracting annotations from gencode gtf files from either of the\n",
    "two methods in snakefile (~/cdai/annotations/workflow/Snakefile)\n"
   ]
  },
  {
   "cell_type": "markdown",
   "id": "f369bb21-b355-486b-b6e9-acd532ef157a",
   "metadata": {},
   "source": [
    "## Conclusion\n",
    "\n",
    "Leafcutter's `leafviz/gtf2leafcutter.pl` produces non-standard intron coordinates. Even though the produced file is using `.bed`\n",
    "file extension, the file is not in correct BED format!\n",
    "\n",
    "- The start position is in correct BED format. \n",
    "- The end position is WRONG! The reported end value from file is 1 greater than the correct BED formatted end value!\n",
    "\n",
    "**use `gtftk`, do not use `gtf2leafcutter.pl`!**\n"
   ]
  },
  {
   "cell_type": "markdown",
   "id": "62b01427-0a4f-4499-8eaf-dc6e1dbe22bd",
   "metadata": {},
   "source": [
    "## Details \n",
    "\n",
    "see below: ..."
   ]
  },
  {
   "cell_type": "code",
   "execution_count": 4,
   "id": "ec54ebb0-19d9-4a8a-b2d5-8c00ca418f8b",
   "metadata": {
    "vscode": {
     "languageId": "python"
    }
   },
   "outputs": [],
   "source": [
    "#| label: set-up\n",
    "\n",
    "import os\n",
    "import pandas as pd"
   ]
  },
  {
   "cell_type": "code",
   "execution_count": 10,
   "id": "b1566c88-2e3e-40e0-87d5-db651565df9d",
   "metadata": {
    "vscode": {
     "languageId": "python"
    }
   },
   "outputs": [
    {
     "data": {
      "text/plain": [
       "'/project2/yangili1/cdai/annotations'"
      ]
     },
     "execution_count": 10,
     "metadata": {},
     "output_type": "execute_result"
    }
   ],
   "source": [
    "os.getcwd()"
   ]
  },
  {
   "cell_type": "code",
   "execution_count": 9,
   "id": "cf21a69e-a007-4038-ba7d-8ddef72be2cb",
   "metadata": {
    "vscode": {
     "languageId": "python"
    }
   },
   "outputs": [],
   "source": [
    "os.chdir('../../')"
   ]
  },
  {
   "cell_type": "code",
   "execution_count": 11,
   "id": "e034e5bb-d69b-463d-a97c-063e0e1b45c3",
   "metadata": {
    "vscode": {
     "languageId": "python"
    }
   },
   "outputs": [
    {
     "name": "stdout",
     "output_type": "stream",
     "text": [
      "hg38:\n",
      "total 48M\n",
      "drwxrwsr-x 4 chaodai pi-yangili1 4.0K May 12 14:50 .\n",
      "drwxrwsr-x 6 chaodai pi-yangili1 4.0K May 12 17:57 ..\n",
      "-rw-rw-r-- 1 chaodai pi-yangili1  48M May 12 12:25 gencode.v43.primary_assembly.annotation.gtf.gz\n",
      "drwxrwsr-x 2 chaodai pi-yangili1 4.0K May 15 17:03 use_gtftk\n",
      "drwxrwsr-x 2 chaodai pi-yangili1 4.0K May 12 18:24 use_leafviz\n",
      "\n",
      "hg38/use_gtftk:\n",
      "total 12M\n",
      "drwxrwsr-x 2 chaodai pi-yangili1 4.0K May 15 17:03 .\n",
      "drwxrwsr-x 4 chaodai pi-yangili1 4.0K May 12 14:50 ..\n",
      "-rw-rw-r-- 1 chaodai pi-yangili1 4.7M May 12 18:15 gencode_v43_basic.exons.bed.gz\n",
      "-rw-rw-r-- 1 chaodai pi-yangili1 1.2M May 14 21:16 gencode_v43_basic.genes.bed.gz\n",
      "-rw-rw-r-- 1 chaodai pi-yangili1 4.4M May 15 17:04 gencode_v43_basic.intron_by_transcript.bed.gz\n",
      "-rw-rw-r-- 1 chaodai pi-yangili1 1.6M May 12 18:44 gencode_v43_basic.transcript.bed.gz\n",
      "\n",
      "hg38/use_leafviz:\n",
      "total 21M\n",
      "drwxrwsr-x 2 chaodai pi-yangili1 4.0K May 12 18:24 .\n",
      "drwxrwsr-x 4 chaodai pi-yangili1 4.0K May 12 14:50 ..\n",
      "-rw-rw-r-- 1 chaodai pi-yangili1    0 May 12 18:24 done\n",
      "-rw-rw-r-- 1 chaodai pi-yangili1 5.2M May 12 18:24 gencode_v43_all_exons.txt.gz\n",
      "-rw-rw-r-- 1 chaodai pi-yangili1 5.3M May 12 18:24 gencode_v43_all_introns.bed.gz\n",
      "-rw-rw-r-- 1 chaodai pi-yangili1 4.9M May 12 18:24 gencode_v43_fiveprime.bed.gz\n",
      "-rw-rw-r-- 1 chaodai pi-yangili1 4.9M May 12 18:24 gencode_v43_threeprime.bed.gz\n"
     ]
    }
   ],
   "source": [
    "#| include: false\n",
    "\n",
    "!ls -lahR hg38"
   ]
  },
  {
   "cell_type": "markdown",
   "id": "80553d0e-fc74-4f9a-903e-fc0a13c15869",
   "metadata": {},
   "source": [
    "## Introns from gtftk"
   ]
  },
  {
   "cell_type": "code",
   "execution_count": 20,
   "id": "b1d81aa7-2d38-43c3-a97d-04f59b51b64e",
   "metadata": {
    "vscode": {
     "languageId": "python"
    }
   },
   "outputs": [],
   "source": [
    "intron_gtftk = pd.read_csv('hg38/use_gtftk/gencode_v43_basic.intron_by_transcript.bed.gz', sep='\\t', header=None, \n",
    "                           names=['chrom', 'start', 'end', 'name', 'score', 'strand'])"
   ]
  },
  {
   "cell_type": "code",
   "execution_count": 21,
   "id": "fe03d8de-e17e-40eb-a99f-da86b1d60f3f",
   "metadata": {
    "vscode": {
     "languageId": "python"
    }
   },
   "outputs": [
    {
     "data": {
      "text/html": [
       "<div>\n",
       "<style scoped>\n",
       "    .dataframe tbody tr th:only-of-type {\n",
       "        vertical-align: middle;\n",
       "    }\n",
       "\n",
       "    .dataframe tbody tr th {\n",
       "        vertical-align: top;\n",
       "    }\n",
       "\n",
       "    .dataframe thead th {\n",
       "        text-align: right;\n",
       "    }\n",
       "</style>\n",
       "<table border=\"1\" class=\"dataframe\">\n",
       "  <thead>\n",
       "    <tr style=\"text-align: right;\">\n",
       "      <th></th>\n",
       "      <th>chrom</th>\n",
       "      <th>start</th>\n",
       "      <th>end</th>\n",
       "      <th>name</th>\n",
       "      <th>score</th>\n",
       "      <th>strand</th>\n",
       "    </tr>\n",
       "  </thead>\n",
       "  <tbody>\n",
       "    <tr>\n",
       "      <th>1</th>\n",
       "      <td>chr1</td>\n",
       "      <td>12721</td>\n",
       "      <td>13220</td>\n",
       "      <td>intron|ENSG00000290825.1|ENST00000456328.2|DDX...</td>\n",
       "      <td>2</td>\n",
       "      <td>+</td>\n",
       "    </tr>\n",
       "  </tbody>\n",
       "</table>\n",
       "</div>"
      ],
      "text/plain": [
       "  chrom  start    end                                               name  \\\n",
       "1  chr1  12721  13220  intron|ENSG00000290825.1|ENST00000456328.2|DDX...   \n",
       "\n",
       "   score strand  \n",
       "1      2      +  "
      ]
     },
     "execution_count": 21,
     "metadata": {},
     "output_type": "execute_result"
    },
    {
     "data": {
      "text/plain": [
       "(486009, 6)"
      ]
     },
     "execution_count": 21,
     "metadata": {},
     "output_type": "execute_result"
    }
   ],
   "source": [
    "intron_gtftk.iloc[1:2]\n",
    "intron_gtftk.shape"
   ]
  },
  {
   "cell_type": "code",
   "execution_count": 22,
   "id": "da9313e8-ced3-4bf1-ada4-410cb9b63ec9",
   "metadata": {
    "vscode": {
     "languageId": "python"
    }
   },
   "outputs": [],
   "source": [
    "intron_leaf = pd.read_csv('hg38/use_leafviz/gencode_v43_all_introns.bed.gz', sep='\\t', header=None,\n",
    "                         names=['chrom', 'start', 'end', 'gname', 'gid', 'strand', 'tid', 'score', 'gene_type', 'tags'])"
   ]
  },
  {
   "cell_type": "code",
   "execution_count": 23,
   "id": "a02d7da8-521e-4844-b9e9-467d16efab5a",
   "metadata": {
    "vscode": {
     "languageId": "python"
    }
   },
   "outputs": [
    {
     "data": {
      "text/html": [
       "<div>\n",
       "<style scoped>\n",
       "    .dataframe tbody tr th:only-of-type {\n",
       "        vertical-align: middle;\n",
       "    }\n",
       "\n",
       "    .dataframe tbody tr th {\n",
       "        vertical-align: top;\n",
       "    }\n",
       "\n",
       "    .dataframe thead th {\n",
       "        text-align: right;\n",
       "    }\n",
       "</style>\n",
       "<table border=\"1\" class=\"dataframe\">\n",
       "  <thead>\n",
       "    <tr style=\"text-align: right;\">\n",
       "      <th></th>\n",
       "      <th>chrom</th>\n",
       "      <th>start</th>\n",
       "      <th>end</th>\n",
       "      <th>gname</th>\n",
       "      <th>gid</th>\n",
       "      <th>strand</th>\n",
       "      <th>tid</th>\n",
       "      <th>score</th>\n",
       "      <th>gene_type</th>\n",
       "      <th>tags</th>\n",
       "    </tr>\n",
       "  </thead>\n",
       "  <tbody>\n",
       "    <tr>\n",
       "      <th>1</th>\n",
       "      <td>chrX</td>\n",
       "      <td>100635252</td>\n",
       "      <td>100635558</td>\n",
       "      <td>TSPAN6</td>\n",
       "      <td>ENSG00000000003.15</td>\n",
       "      <td>-</td>\n",
       "      <td>ENST00000373020.9</td>\n",
       "      <td>2</td>\n",
       "      <td>protein_coding</td>\n",
       "      <td>basic|Ensembl_canonical|MANE_Select|appris_pri...</td>\n",
       "    </tr>\n",
       "  </tbody>\n",
       "</table>\n",
       "</div>"
      ],
      "text/plain": [
       "  chrom      start        end   gname                 gid strand  \\\n",
       "1  chrX  100635252  100635558  TSPAN6  ENSG00000000003.15      -   \n",
       "\n",
       "                 tid  score       gene_type  \\\n",
       "1  ENST00000373020.9      2  protein_coding   \n",
       "\n",
       "                                                tags  \n",
       "1  basic|Ensembl_canonical|MANE_Select|appris_pri...  "
      ]
     },
     "execution_count": 23,
     "metadata": {},
     "output_type": "execute_result"
    },
    {
     "data": {
      "text/plain": [
       "(486009, 10)"
      ]
     },
     "execution_count": 23,
     "metadata": {},
     "output_type": "execute_result"
    }
   ],
   "source": [
    "intron_leaf.iloc[1:2,:]\n",
    "intron_leaf.shape"
   ]
  },
  {
   "cell_type": "code",
   "execution_count": 37,
   "id": "d1fee705-8b16-43c6-adca-c279e0332178",
   "metadata": {
    "vscode": {
     "languageId": "python"
    }
   },
   "outputs": [
    {
     "data": {
      "text/html": [
       "<div>\n",
       "<style scoped>\n",
       "    .dataframe tbody tr th:only-of-type {\n",
       "        vertical-align: middle;\n",
       "    }\n",
       "\n",
       "    .dataframe tbody tr th {\n",
       "        vertical-align: top;\n",
       "    }\n",
       "\n",
       "    .dataframe thead th {\n",
       "        text-align: right;\n",
       "    }\n",
       "</style>\n",
       "<table border=\"1\" class=\"dataframe\">\n",
       "  <thead>\n",
       "    <tr style=\"text-align: right;\">\n",
       "      <th></th>\n",
       "      <th>chrom</th>\n",
       "      <th>start</th>\n",
       "      <th>end</th>\n",
       "      <th>name</th>\n",
       "      <th>score</th>\n",
       "      <th>strand</th>\n",
       "    </tr>\n",
       "  </thead>\n",
       "  <tbody>\n",
       "    <tr>\n",
       "      <th>0</th>\n",
       "      <td>chr1</td>\n",
       "      <td>244051444</td>\n",
       "      <td>244053787</td>\n",
       "      <td>intron|ENSG00000179456.12|ENST00000358704.4|ZB...</td>\n",
       "      <td>1</td>\n",
       "      <td>+</td>\n",
       "    </tr>\n",
       "    <tr>\n",
       "      <th>1</th>\n",
       "      <td>chr1</td>\n",
       "      <td>244048993</td>\n",
       "      <td>244053787</td>\n",
       "      <td>intron|ENSG00000179456.12|ENST00000622512.1|ZB...</td>\n",
       "      <td>1</td>\n",
       "      <td>+</td>\n",
       "    </tr>\n",
       "  </tbody>\n",
       "</table>\n",
       "</div>"
      ],
      "text/plain": [
       "  chrom      start        end  \\\n",
       "0  chr1  244051444  244053787   \n",
       "1  chr1  244048993  244053787   \n",
       "\n",
       "                                                name  score strand  \n",
       "0  intron|ENSG00000179456.12|ENST00000358704.4|ZB...      1      +  \n",
       "1  intron|ENSG00000179456.12|ENST00000622512.1|ZB...      1      +  "
      ]
     },
     "execution_count": 37,
     "metadata": {},
     "output_type": "execute_result"
    }
   ],
   "source": [
    "intron_gtftk[intron_gtftk['name'].str.contains('ZBTB18')].sort_values(['name', 'start']).reset_index(drop=True)"
   ]
  },
  {
   "cell_type": "markdown",
   "id": "b33229b4-99c7-48cc-862d-6850e47472c0",
   "metadata": {},
   "source": [
    "## Introns from leafcutter perl script"
   ]
  },
  {
   "cell_type": "code",
   "execution_count": 38,
   "id": "1fcc3ddd-5b45-4eb5-9201-83c689b6e1e0",
   "metadata": {
    "vscode": {
     "languageId": "python"
    }
   },
   "outputs": [
    {
     "data": {
      "text/html": [
       "<div>\n",
       "<style scoped>\n",
       "    .dataframe tbody tr th:only-of-type {\n",
       "        vertical-align: middle;\n",
       "    }\n",
       "\n",
       "    .dataframe tbody tr th {\n",
       "        vertical-align: top;\n",
       "    }\n",
       "\n",
       "    .dataframe thead th {\n",
       "        text-align: right;\n",
       "    }\n",
       "</style>\n",
       "<table border=\"1\" class=\"dataframe\">\n",
       "  <thead>\n",
       "    <tr style=\"text-align: right;\">\n",
       "      <th></th>\n",
       "      <th>chrom</th>\n",
       "      <th>start</th>\n",
       "      <th>end</th>\n",
       "      <th>gname</th>\n",
       "      <th>gid</th>\n",
       "      <th>strand</th>\n",
       "      <th>tid</th>\n",
       "      <th>score</th>\n",
       "      <th>gene_type</th>\n",
       "      <th>tags</th>\n",
       "    </tr>\n",
       "  </thead>\n",
       "  <tbody>\n",
       "    <tr>\n",
       "      <th>0</th>\n",
       "      <td>chr1</td>\n",
       "      <td>244051444</td>\n",
       "      <td>244053788</td>\n",
       "      <td>ZBTB18</td>\n",
       "      <td>ENSG00000179456.12</td>\n",
       "      <td>+</td>\n",
       "      <td>ENST00000358704.4</td>\n",
       "      <td>1</td>\n",
       "      <td>protein_coding</td>\n",
       "      <td>basic|Ensembl_canonical|MANE_Select|appris_pri...</td>\n",
       "    </tr>\n",
       "    <tr>\n",
       "      <th>1</th>\n",
       "      <td>chr1</td>\n",
       "      <td>244048993</td>\n",
       "      <td>244053788</td>\n",
       "      <td>ZBTB18</td>\n",
       "      <td>ENSG00000179456.12</td>\n",
       "      <td>+</td>\n",
       "      <td>ENST00000622512.1</td>\n",
       "      <td>1</td>\n",
       "      <td>protein_coding</td>\n",
       "      <td>basic|appris_alternative_1</td>\n",
       "    </tr>\n",
       "  </tbody>\n",
       "</table>\n",
       "</div>"
      ],
      "text/plain": [
       "  chrom      start        end   gname                 gid strand  \\\n",
       "0  chr1  244051444  244053788  ZBTB18  ENSG00000179456.12      +   \n",
       "1  chr1  244048993  244053788  ZBTB18  ENSG00000179456.12      +   \n",
       "\n",
       "                 tid  score       gene_type  \\\n",
       "0  ENST00000358704.4      1  protein_coding   \n",
       "1  ENST00000622512.1      1  protein_coding   \n",
       "\n",
       "                                                tags  \n",
       "0  basic|Ensembl_canonical|MANE_Select|appris_pri...  \n",
       "1                         basic|appris_alternative_1  "
      ]
     },
     "execution_count": 38,
     "metadata": {},
     "output_type": "execute_result"
    }
   ],
   "source": [
    "intron_leaf[intron_leaf.gname.str.contains('ZBTB18')].sort_values(['tid', 'start']).reset_index(drop=True)"
   ]
  },
  {
   "cell_type": "markdown",
   "id": "6cacdb99-8703-4b64-be78-d55f0075dd6c",
   "metadata": {},
   "source": [
    "## Comparison notes: \n",
    "\n",
    "1. Notice for each gene, the number of introns from either method are the same. \n",
    "2. gtftk produced introns follow correct BED format, however, leafcutter produced results do not follow correct BEDformat. \n",
    "    - Specifically, leafcutter produced introns have the **same start coordinate, but an increase by 1 end coordinate**."
   ]
  },
  {
   "cell_type": "markdown",
   "id": "5077278f-7832-462d-bb71-84d0c063c414",
   "metadata": {},
   "source": [
    "## Check gtftk produced intron junctions, along with transcript and exon coordiantes\n",
    "\n",
    "1. example for ZBTB18 shows the intron for transcript 704.4 is from ...444(close) to ...787(open), while first exons ends at ...444(open) and the second\n",
    "exon starts from ...787 (close). \n",
    "2. similarly the second intron is also correct, considering all transcript, exons, and introns are strictly BED format."
   ]
  },
  {
   "cell_type": "code",
   "execution_count": 43,
   "id": "147beb4b-cd85-4206-8173-4d1728ab8162",
   "metadata": {
    "vscode": {
     "languageId": "python"
    }
   },
   "outputs": [
    {
     "name": "stdout",
     "output_type": "stream",
     "text": [
      "chr1\t244051282\t244057476\tENSG00000179456.12|ENST00000358704.4|ZBTB18|protein_coding\t.\t+\n",
      "chr1\t244048938\t244057472\tENSG00000179456.12|ENST00000622512.1|ZBTB18|protein_coding\t.\t+\n"
     ]
    }
   ],
   "source": [
    "# transcripts\n",
    "!zcat hg38/use_gtftk/gencode_v43_basic.transcript.bed.gz | awk '$4 ~ /ZBTB18/' | sort -k4 -k2"
   ]
  },
  {
   "cell_type": "code",
   "execution_count": 44,
   "id": "3ff076cf-5568-4681-8ded-1f2b2fd47ef2",
   "metadata": {
    "vscode": {
     "languageId": "python"
    }
   },
   "outputs": [
    {
     "name": "stdout",
     "output_type": "stream",
     "text": [
      "chr1\t244051282\t244051444\tENSG00000179456.12|ENST00000358704.4|ZBTB18|protein_coding\t.\t+\n",
      "chr1\t244053787\t244057476\tENSG00000179456.12|ENST00000358704.4|ZBTB18|protein_coding\t.\t+\n",
      "chr1\t244048938\t244048993\tENSG00000179456.12|ENST00000622512.1|ZBTB18|protein_coding\t.\t+\n",
      "chr1\t244053787\t244057472\tENSG00000179456.12|ENST00000622512.1|ZBTB18|protein_coding\t.\t+\n"
     ]
    }
   ],
   "source": [
    "# exons\n",
    "!zcat hg38/use_gtftk/gencode_v43_basic.exons.bed.gz | awk '$4 ~ /ZBTB18/' | sort -k4 -k2"
   ]
  },
  {
   "cell_type": "code",
   "execution_count": 46,
   "id": "d95af556-bf8b-4bb7-9568-2d7da5f0304a",
   "metadata": {
    "vscode": {
     "languageId": "python"
    }
   },
   "outputs": [
    {
     "data": {
      "text/html": [
       "<div>\n",
       "<style scoped>\n",
       "    .dataframe tbody tr th:only-of-type {\n",
       "        vertical-align: middle;\n",
       "    }\n",
       "\n",
       "    .dataframe tbody tr th {\n",
       "        vertical-align: top;\n",
       "    }\n",
       "\n",
       "    .dataframe thead th {\n",
       "        text-align: right;\n",
       "    }\n",
       "</style>\n",
       "<table border=\"1\" class=\"dataframe\">\n",
       "  <thead>\n",
       "    <tr style=\"text-align: right;\">\n",
       "      <th></th>\n",
       "      <th>chrom</th>\n",
       "      <th>start</th>\n",
       "      <th>end</th>\n",
       "      <th>name</th>\n",
       "      <th>score</th>\n",
       "      <th>strand</th>\n",
       "    </tr>\n",
       "  </thead>\n",
       "  <tbody>\n",
       "    <tr>\n",
       "      <th>0</th>\n",
       "      <td>chr1</td>\n",
       "      <td>244051444</td>\n",
       "      <td>244053787</td>\n",
       "      <td>intron|ENSG00000179456.12|ENST00000358704.4|ZB...</td>\n",
       "      <td>1</td>\n",
       "      <td>+</td>\n",
       "    </tr>\n",
       "    <tr>\n",
       "      <th>1</th>\n",
       "      <td>chr1</td>\n",
       "      <td>244048993</td>\n",
       "      <td>244053787</td>\n",
       "      <td>intron|ENSG00000179456.12|ENST00000622512.1|ZB...</td>\n",
       "      <td>1</td>\n",
       "      <td>+</td>\n",
       "    </tr>\n",
       "  </tbody>\n",
       "</table>\n",
       "</div>"
      ],
      "text/plain": [
       "  chrom      start        end  \\\n",
       "0  chr1  244051444  244053787   \n",
       "1  chr1  244048993  244053787   \n",
       "\n",
       "                                                name  score strand  \n",
       "0  intron|ENSG00000179456.12|ENST00000358704.4|ZB...      1      +  \n",
       "1  intron|ENSG00000179456.12|ENST00000622512.1|ZB...      1      +  "
      ]
     },
     "execution_count": 46,
     "metadata": {},
     "output_type": "execute_result"
    }
   ],
   "source": [
    "# introns\n",
    "intron_gtftk[intron_gtftk['name'].str.contains('ZBTB18')].sort_values(['name', 'start']).reset_index(drop=True)"
   ]
  },
  {
   "cell_type": "markdown",
   "id": "e2236675-5e87-4f6d-b5da-4b0751baceea",
   "metadata": {},
   "source": [
    "## Check leafcutter produced intron junctions, along with transcript and exon coordiantes\n",
    "\n",
    "1. exons from leafcutter are 1 based both close format (like VCF or gtf)\n",
    "2. introns have non-standard coordinates! (**start is 0 based close, but end is non-standard: end appears to be BED-formatted-end + 1**)"
   ]
  },
  {
   "cell_type": "code",
   "execution_count": 47,
   "id": "9d501253-3f29-4397-9ade-d2f8379fcc66",
   "metadata": {
    "vscode": {
     "languageId": "python"
    }
   },
   "outputs": [
    {
     "name": "stdout",
     "output_type": "stream",
     "text": [
      "chr1\t244051282\t244057476\tENSG00000179456.12|ENST00000358704.4|ZBTB18|protein_coding\t.\t+\n",
      "chr1\t244048938\t244057472\tENSG00000179456.12|ENST00000622512.1|ZBTB18|protein_coding\t.\t+\n"
     ]
    }
   ],
   "source": [
    "# transcripts\n",
    "# using the same transcript file produced by gtftk\n",
    "!zcat hg38/use_gtftk/gencode_v43_basic.transcript.bed.gz | awk '$4 ~ /ZBTB18/' | sort -k4 -k2"
   ]
  },
  {
   "cell_type": "code",
   "execution_count": 51,
   "id": "bed56bbb-c2f0-42bb-bb9a-df94c544afe0",
   "metadata": {
    "vscode": {
     "languageId": "python"
    }
   },
   "outputs": [
    {
     "name": "stdout",
     "output_type": "stream",
     "text": [
      "chr1\t244048939\t244048993\t+\tZBTB18\n",
      "chr1\t244053788\t244057472\t+\tZBTB18\n",
      "chr1\t244051283\t244051444\t+\tZBTB18\n",
      "chr1\t244053788\t244057476\t+\tZBTB18\n"
     ]
    }
   ],
   "source": [
    "# exons\n",
    "!zcat hg38/use_leafviz/gencode_v43_all_exons.txt.gz |  awk '$5 ~ /ZBTB18/' "
   ]
  },
  {
   "cell_type": "code",
   "execution_count": 53,
   "id": "8f496e99-514f-4e9a-942f-67a5f6bf92b5",
   "metadata": {
    "vscode": {
     "languageId": "python"
    }
   },
   "outputs": [
    {
     "name": "stdout",
     "output_type": "stream",
     "text": [
      "chr1\t244051444\t244053788\tZBTB18\tENSG00000179456.12\t+\tENST00000358704.4\t1\tprotein_coding\tbasic|Ensembl_canonical|MANE_Select|appris_principal_4|CCDS\n",
      "chr1\t244048993\t244053788\tZBTB18\tENSG00000179456.12\t+\tENST00000622512.1\t1\tprotein_coding\tbasic|appris_alternative_1\n"
     ]
    }
   ],
   "source": [
    "# introns\n",
    "!zcat hg38/use_leafviz/gencode_v43_all_introns.bed.gz | awk '$4 ~ /ZBTB18/'"
   ]
  },
  {
   "cell_type": "code",
   "execution_count": null,
   "id": "9e7c4c1d-52f8-42c0-84c4-f3fea445fca5",
   "metadata": {
    "vscode": {
     "languageId": "python"
    }
   },
   "outputs": [],
   "source": []
  },
  {
   "cell_type": "code",
   "execution_count": null,
   "id": "7a9c33ba-3283-4412-a36e-01970c0abd93",
   "metadata": {
    "vscode": {
     "languageId": "python"
    }
   },
   "outputs": [],
   "source": []
  },
  {
   "cell_type": "code",
   "execution_count": null,
   "id": "23640be8-f2e1-4be9-bdb8-76f73fa46b9c",
   "metadata": {
    "vscode": {
     "languageId": "python"
    }
   },
   "outputs": [],
   "source": []
  },
  {
   "cell_type": "markdown",
   "id": "5a2115a7-99ae-4795-ab3e-9e07df0c27aa",
   "metadata": {},
   "source": [
    "# test"
   ]
  },
  {
   "cell_type": "code",
   "execution_count": 1,
   "id": "0205edf8-d6ec-412a-8f1c-a5cec7b642ea",
   "metadata": {
    "vscode": {
     "languageId": "python"
    }
   },
   "outputs": [
    {
     "name": "stdout",
     "output_type": "stream",
     "text": [
      "\u001b[0m\u001b[38;5;9m../../hg38/use_gtftk/gencode_v43_basic.intron_by_transcript.bed.gz\u001b[0m\n"
     ]
    }
   ],
   "source": [
    "ls ../../hg38/use_gtftk/gencode_v43_basic.intron_by_transcript.bed.gz"
   ]
  },
  {
   "cell_type": "code",
   "execution_count": 7,
   "id": "37d1e9b1-ae2a-49c9-8925-091341c0a04d",
   "metadata": {},
   "outputs": [
    {
     "name": "stdout",
     "output_type": "stream",
     "text": [
      "\u001b[0m\u001b[38;5;9mgencode_v43_all.exons.bed.gz\u001b[0m\n",
      "\u001b[38;5;9mgencode_v43_all.genes.bed.gz\u001b[0m\n",
      "\u001b[38;5;9mgencode_v43_all.intron_by_transcript.bed.gz\u001b[0m\n",
      "\u001b[38;5;9mgencode_v43_all.transcript.bed.gz\u001b[0m\n",
      "\u001b[38;5;9mgencode_v43_basic.exons.bed.gz\u001b[0m\n",
      "\u001b[38;5;9mgencode_v43_basic.intron_by_transcript.bed.gz\u001b[0m\n",
      "\u001b[38;5;9mgencode_v43_basic.transcript.bed.gz\u001b[0m\n"
     ]
    }
   ],
   "source": [
    "ls ../../hg38/use_gtftk"
   ]
  },
  {
   "cell_type": "code",
   "execution_count": 8,
   "id": "9049037a-463c-4c6b-909d-79ea5523b510",
   "metadata": {
    "vscode": {
     "languageId": "python"
    }
   },
   "outputs": [],
   "source": [
    "intron_gtftk = pd.read_csv('../../hg38/use_gtftk/gencode_v43_all.intron_by_transcript.bed.gz', sep='\\t', header=None, \n",
    "                           names=['chrom', 'start', 'end', 'name', 'score', 'strand'])"
   ]
  },
  {
   "cell_type": "code",
   "execution_count": 9,
   "id": "9cdf6177-dd95-4cd3-bd79-fd837df34937",
   "metadata": {
    "vscode": {
     "languageId": "python"
    }
   },
   "outputs": [
    {
     "data": {
      "text/html": [
       "<div>\n",
       "<style scoped>\n",
       "    .dataframe tbody tr th:only-of-type {\n",
       "        vertical-align: middle;\n",
       "    }\n",
       "\n",
       "    .dataframe tbody tr th {\n",
       "        vertical-align: top;\n",
       "    }\n",
       "\n",
       "    .dataframe thead th {\n",
       "        text-align: right;\n",
       "    }\n",
       "</style>\n",
       "<table border=\"1\" class=\"dataframe\">\n",
       "  <thead>\n",
       "    <tr style=\"text-align: right;\">\n",
       "      <th></th>\n",
       "      <th>chrom</th>\n",
       "      <th>start</th>\n",
       "      <th>end</th>\n",
       "      <th>name</th>\n",
       "      <th>score</th>\n",
       "      <th>strand</th>\n",
       "    </tr>\n",
       "  </thead>\n",
       "  <tbody>\n",
       "    <tr>\n",
       "      <th>1</th>\n",
       "      <td>chr1</td>\n",
       "      <td>12721</td>\n",
       "      <td>13220</td>\n",
       "      <td>intron|ENSG00000290825.1|ENST00000456328.2|DDX...</td>\n",
       "      <td>2</td>\n",
       "      <td>+</td>\n",
       "    </tr>\n",
       "  </tbody>\n",
       "</table>\n",
       "</div>"
      ],
      "text/plain": [
       "  chrom  start    end                                               name  \\\n",
       "1  chr1  12721  13220  intron|ENSG00000290825.1|ENST00000456328.2|DDX...   \n",
       "\n",
       "   score strand  \n",
       "1      2      +  "
      ]
     },
     "execution_count": 9,
     "metadata": {},
     "output_type": "execute_result"
    },
    {
     "data": {
      "text/plain": [
       "(1396243, 6)"
      ]
     },
     "execution_count": 9,
     "metadata": {},
     "output_type": "execute_result"
    }
   ],
   "source": [
    "intron_gtftk.iloc[1:2]\n",
    "intron_gtftk.shape"
   ]
  },
  {
   "cell_type": "code",
   "execution_count": 12,
   "id": "9fe181fb-ca97-450d-a14f-f3f0e5788292",
   "metadata": {},
   "outputs": [],
   "source": [
    "intron_gtftk[['feature', 'gid', 'tid', 'gene', 'gene_type', 'trpt_type']] = intron_gtftk['name'].str.split('|', expand=True)"
   ]
  },
  {
   "cell_type": "code",
   "execution_count": 14,
   "id": "d2d9bda0-317e-40e1-9163-1475abcb8855",
   "metadata": {},
   "outputs": [],
   "source": [
    "intron_gtftk.drop('name', axis=1, inplace=True)"
   ]
  },
  {
   "cell_type": "code",
   "execution_count": 15,
   "id": "f1e499e2-a937-4590-ae1d-ad533f2d686e",
   "metadata": {
    "vscode": {
     "languageId": "python"
    }
   },
   "outputs": [
    {
     "data": {
      "text/html": [
       "<div>\n",
       "<style scoped>\n",
       "    .dataframe tbody tr th:only-of-type {\n",
       "        vertical-align: middle;\n",
       "    }\n",
       "\n",
       "    .dataframe tbody tr th {\n",
       "        vertical-align: top;\n",
       "    }\n",
       "\n",
       "    .dataframe thead th {\n",
       "        text-align: right;\n",
       "    }\n",
       "</style>\n",
       "<table border=\"1\" class=\"dataframe\">\n",
       "  <thead>\n",
       "    <tr style=\"text-align: right;\">\n",
       "      <th></th>\n",
       "      <th>chrom</th>\n",
       "      <th>start</th>\n",
       "      <th>end</th>\n",
       "      <th>score</th>\n",
       "      <th>strand</th>\n",
       "      <th>feature</th>\n",
       "      <th>gid</th>\n",
       "      <th>tid</th>\n",
       "      <th>gene</th>\n",
       "      <th>gene_type</th>\n",
       "      <th>trpt_type</th>\n",
       "    </tr>\n",
       "  </thead>\n",
       "  <tbody>\n",
       "    <tr>\n",
       "      <th>1</th>\n",
       "      <td>chr1</td>\n",
       "      <td>12721</td>\n",
       "      <td>13220</td>\n",
       "      <td>2</td>\n",
       "      <td>+</td>\n",
       "      <td>intron</td>\n",
       "      <td>ENSG00000290825.1</td>\n",
       "      <td>ENST00000456328.2</td>\n",
       "      <td>DDX11L2</td>\n",
       "      <td>lncRNA</td>\n",
       "      <td>lncRNA</td>\n",
       "    </tr>\n",
       "    <tr>\n",
       "      <th>2</th>\n",
       "      <td>chr1</td>\n",
       "      <td>12057</td>\n",
       "      <td>12178</td>\n",
       "      <td>1</td>\n",
       "      <td>+</td>\n",
       "      <td>intron</td>\n",
       "      <td>ENSG00000223972.6</td>\n",
       "      <td>ENST00000450305.2</td>\n",
       "      <td>DDX11L1</td>\n",
       "      <td>transcribed_unprocessed_pseudogene</td>\n",
       "      <td>transcribed_unprocessed_pseudogene</td>\n",
       "    </tr>\n",
       "    <tr>\n",
       "      <th>3</th>\n",
       "      <td>chr1</td>\n",
       "      <td>12227</td>\n",
       "      <td>12612</td>\n",
       "      <td>2</td>\n",
       "      <td>+</td>\n",
       "      <td>intron</td>\n",
       "      <td>ENSG00000223972.6</td>\n",
       "      <td>ENST00000450305.2</td>\n",
       "      <td>DDX11L1</td>\n",
       "      <td>transcribed_unprocessed_pseudogene</td>\n",
       "      <td>transcribed_unprocessed_pseudogene</td>\n",
       "    </tr>\n",
       "    <tr>\n",
       "      <th>4</th>\n",
       "      <td>chr1</td>\n",
       "      <td>12697</td>\n",
       "      <td>12974</td>\n",
       "      <td>3</td>\n",
       "      <td>+</td>\n",
       "      <td>intron</td>\n",
       "      <td>ENSG00000223972.6</td>\n",
       "      <td>ENST00000450305.2</td>\n",
       "      <td>DDX11L1</td>\n",
       "      <td>transcribed_unprocessed_pseudogene</td>\n",
       "      <td>transcribed_unprocessed_pseudogene</td>\n",
       "    </tr>\n",
       "  </tbody>\n",
       "</table>\n",
       "</div>"
      ],
      "text/plain": [
       "  chrom  start    end  score strand feature                gid  \\\n",
       "1  chr1  12721  13220      2      +  intron  ENSG00000290825.1   \n",
       "2  chr1  12057  12178      1      +  intron  ENSG00000223972.6   \n",
       "3  chr1  12227  12612      2      +  intron  ENSG00000223972.6   \n",
       "4  chr1  12697  12974      3      +  intron  ENSG00000223972.6   \n",
       "\n",
       "                 tid     gene                           gene_type  \\\n",
       "1  ENST00000456328.2  DDX11L2                              lncRNA   \n",
       "2  ENST00000450305.2  DDX11L1  transcribed_unprocessed_pseudogene   \n",
       "3  ENST00000450305.2  DDX11L1  transcribed_unprocessed_pseudogene   \n",
       "4  ENST00000450305.2  DDX11L1  transcribed_unprocessed_pseudogene   \n",
       "\n",
       "                            trpt_type  \n",
       "1                              lncRNA  \n",
       "2  transcribed_unprocessed_pseudogene  \n",
       "3  transcribed_unprocessed_pseudogene  \n",
       "4  transcribed_unprocessed_pseudogene  "
      ]
     },
     "execution_count": 15,
     "metadata": {},
     "output_type": "execute_result"
    }
   ],
   "source": [
    "intron_gtftk[1:5]"
   ]
  },
  {
   "cell_type": "code",
   "execution_count": 42,
   "id": "9d9673fe-6f5c-445b-877b-ee9ce489715d",
   "metadata": {},
   "outputs": [],
   "source": [
    "intron_gtftk.loc[:, 'intron_id'] = intron_gtftk['chrom'].str.cat(intron_gtftk[['start', 'end', 'strand']].apply(lambda x: x.astype(str)), sep=':')"
   ]
  },
  {
   "cell_type": "code",
   "execution_count": 43,
   "id": "d506b68b-19be-49af-a846-a008705cdebc",
   "metadata": {},
   "outputs": [
    {
     "data": {
      "text/html": [
       "<div>\n",
       "<style scoped>\n",
       "    .dataframe tbody tr th:only-of-type {\n",
       "        vertical-align: middle;\n",
       "    }\n",
       "\n",
       "    .dataframe tbody tr th {\n",
       "        vertical-align: top;\n",
       "    }\n",
       "\n",
       "    .dataframe thead th {\n",
       "        text-align: right;\n",
       "    }\n",
       "</style>\n",
       "<table border=\"1\" class=\"dataframe\">\n",
       "  <thead>\n",
       "    <tr style=\"text-align: right;\">\n",
       "      <th></th>\n",
       "      <th>chrom</th>\n",
       "      <th>start</th>\n",
       "      <th>end</th>\n",
       "      <th>score</th>\n",
       "      <th>strand</th>\n",
       "      <th>feature</th>\n",
       "      <th>gid</th>\n",
       "      <th>tid</th>\n",
       "      <th>gene</th>\n",
       "      <th>gene_type</th>\n",
       "      <th>trpt_type</th>\n",
       "      <th>intron_id</th>\n",
       "    </tr>\n",
       "  </thead>\n",
       "  <tbody>\n",
       "    <tr>\n",
       "      <th>0</th>\n",
       "      <td>chr1</td>\n",
       "      <td>12227</td>\n",
       "      <td>12612</td>\n",
       "      <td>1</td>\n",
       "      <td>+</td>\n",
       "      <td>intron</td>\n",
       "      <td>ENSG00000290825.1</td>\n",
       "      <td>ENST00000456328.2</td>\n",
       "      <td>DDX11L2</td>\n",
       "      <td>lncRNA</td>\n",
       "      <td>lncRNA</td>\n",
       "      <td>chr1:12227:12612:+</td>\n",
       "    </tr>\n",
       "    <tr>\n",
       "      <th>1</th>\n",
       "      <td>chr1</td>\n",
       "      <td>12721</td>\n",
       "      <td>13220</td>\n",
       "      <td>2</td>\n",
       "      <td>+</td>\n",
       "      <td>intron</td>\n",
       "      <td>ENSG00000290825.1</td>\n",
       "      <td>ENST00000456328.2</td>\n",
       "      <td>DDX11L2</td>\n",
       "      <td>lncRNA</td>\n",
       "      <td>lncRNA</td>\n",
       "      <td>chr1:12721:13220:+</td>\n",
       "    </tr>\n",
       "    <tr>\n",
       "      <th>2</th>\n",
       "      <td>chr1</td>\n",
       "      <td>12057</td>\n",
       "      <td>12178</td>\n",
       "      <td>1</td>\n",
       "      <td>+</td>\n",
       "      <td>intron</td>\n",
       "      <td>ENSG00000223972.6</td>\n",
       "      <td>ENST00000450305.2</td>\n",
       "      <td>DDX11L1</td>\n",
       "      <td>transcribed_unprocessed_pseudogene</td>\n",
       "      <td>transcribed_unprocessed_pseudogene</td>\n",
       "      <td>chr1:12057:12178:+</td>\n",
       "    </tr>\n",
       "    <tr>\n",
       "      <th>3</th>\n",
       "      <td>chr1</td>\n",
       "      <td>12227</td>\n",
       "      <td>12612</td>\n",
       "      <td>2</td>\n",
       "      <td>+</td>\n",
       "      <td>intron</td>\n",
       "      <td>ENSG00000223972.6</td>\n",
       "      <td>ENST00000450305.2</td>\n",
       "      <td>DDX11L1</td>\n",
       "      <td>transcribed_unprocessed_pseudogene</td>\n",
       "      <td>transcribed_unprocessed_pseudogene</td>\n",
       "      <td>chr1:12227:12612:+</td>\n",
       "    </tr>\n",
       "    <tr>\n",
       "      <th>4</th>\n",
       "      <td>chr1</td>\n",
       "      <td>12697</td>\n",
       "      <td>12974</td>\n",
       "      <td>3</td>\n",
       "      <td>+</td>\n",
       "      <td>intron</td>\n",
       "      <td>ENSG00000223972.6</td>\n",
       "      <td>ENST00000450305.2</td>\n",
       "      <td>DDX11L1</td>\n",
       "      <td>transcribed_unprocessed_pseudogene</td>\n",
       "      <td>transcribed_unprocessed_pseudogene</td>\n",
       "      <td>chr1:12697:12974:+</td>\n",
       "    </tr>\n",
       "  </tbody>\n",
       "</table>\n",
       "</div>"
      ],
      "text/plain": [
       "  chrom  start    end  score strand feature                gid  \\\n",
       "0  chr1  12227  12612      1      +  intron  ENSG00000290825.1   \n",
       "1  chr1  12721  13220      2      +  intron  ENSG00000290825.1   \n",
       "2  chr1  12057  12178      1      +  intron  ENSG00000223972.6   \n",
       "3  chr1  12227  12612      2      +  intron  ENSG00000223972.6   \n",
       "4  chr1  12697  12974      3      +  intron  ENSG00000223972.6   \n",
       "\n",
       "                 tid     gene                           gene_type  \\\n",
       "0  ENST00000456328.2  DDX11L2                              lncRNA   \n",
       "1  ENST00000456328.2  DDX11L2                              lncRNA   \n",
       "2  ENST00000450305.2  DDX11L1  transcribed_unprocessed_pseudogene   \n",
       "3  ENST00000450305.2  DDX11L1  transcribed_unprocessed_pseudogene   \n",
       "4  ENST00000450305.2  DDX11L1  transcribed_unprocessed_pseudogene   \n",
       "\n",
       "                            trpt_type           intron_id  \n",
       "0                              lncRNA  chr1:12227:12612:+  \n",
       "1                              lncRNA  chr1:12721:13220:+  \n",
       "2  transcribed_unprocessed_pseudogene  chr1:12057:12178:+  \n",
       "3  transcribed_unprocessed_pseudogene  chr1:12227:12612:+  \n",
       "4  transcribed_unprocessed_pseudogene  chr1:12697:12974:+  "
      ]
     },
     "execution_count": 43,
     "metadata": {},
     "output_type": "execute_result"
    }
   ],
   "source": [
    "intron_gtftk.head()"
   ]
  },
  {
   "cell_type": "code",
   "execution_count": 54,
   "id": "ee69d3d9-3ac8-4f2e-8be4-ebe2b6d068e9",
   "metadata": {},
   "outputs": [
    {
     "data": {
      "text/html": [
       "<div>\n",
       "<style scoped>\n",
       "    .dataframe tbody tr th:only-of-type {\n",
       "        vertical-align: middle;\n",
       "    }\n",
       "\n",
       "    .dataframe tbody tr th {\n",
       "        vertical-align: top;\n",
       "    }\n",
       "\n",
       "    .dataframe thead th {\n",
       "        text-align: right;\n",
       "    }\n",
       "</style>\n",
       "<table border=\"1\" class=\"dataframe\">\n",
       "  <thead>\n",
       "    <tr style=\"text-align: right;\">\n",
       "      <th></th>\n",
       "      <th>chrom</th>\n",
       "      <th>start</th>\n",
       "      <th>end</th>\n",
       "      <th>score</th>\n",
       "      <th>strand</th>\n",
       "      <th>feature</th>\n",
       "      <th>gid</th>\n",
       "      <th>tid</th>\n",
       "      <th>gene</th>\n",
       "      <th>gene_type</th>\n",
       "      <th>trpt_type</th>\n",
       "      <th>intron_id</th>\n",
       "    </tr>\n",
       "  </thead>\n",
       "  <tbody>\n",
       "    <tr>\n",
       "      <th>2</th>\n",
       "      <td>chr1</td>\n",
       "      <td>12057</td>\n",
       "      <td>12178</td>\n",
       "      <td>1</td>\n",
       "      <td>+</td>\n",
       "      <td>intron</td>\n",
       "      <td>ENSG00000223972.6</td>\n",
       "      <td>ENST00000450305.2</td>\n",
       "      <td>DDX11L1</td>\n",
       "      <td>transcribed_unprocessed_pseudogene</td>\n",
       "      <td>transcribed_unprocessed_pseudogene</td>\n",
       "      <td>chr1:12057:12178:+</td>\n",
       "    </tr>\n",
       "    <tr>\n",
       "      <th>0</th>\n",
       "      <td>chr1</td>\n",
       "      <td>12227</td>\n",
       "      <td>12612</td>\n",
       "      <td>1</td>\n",
       "      <td>+</td>\n",
       "      <td>intron</td>\n",
       "      <td>ENSG00000290825.1</td>\n",
       "      <td>ENST00000456328.2</td>\n",
       "      <td>DDX11L2</td>\n",
       "      <td>lncRNA</td>\n",
       "      <td>lncRNA</td>\n",
       "      <td>chr1:12227:12612:+</td>\n",
       "    </tr>\n",
       "    <tr>\n",
       "      <th>3</th>\n",
       "      <td>chr1</td>\n",
       "      <td>12227</td>\n",
       "      <td>12612</td>\n",
       "      <td>2</td>\n",
       "      <td>+</td>\n",
       "      <td>intron</td>\n",
       "      <td>ENSG00000223972.6</td>\n",
       "      <td>ENST00000450305.2</td>\n",
       "      <td>DDX11L1</td>\n",
       "      <td>transcribed_unprocessed_pseudogene</td>\n",
       "      <td>transcribed_unprocessed_pseudogene</td>\n",
       "      <td>chr1:12227:12612:+</td>\n",
       "    </tr>\n",
       "    <tr>\n",
       "      <th>4</th>\n",
       "      <td>chr1</td>\n",
       "      <td>12697</td>\n",
       "      <td>12974</td>\n",
       "      <td>3</td>\n",
       "      <td>+</td>\n",
       "      <td>intron</td>\n",
       "      <td>ENSG00000223972.6</td>\n",
       "      <td>ENST00000450305.2</td>\n",
       "      <td>DDX11L1</td>\n",
       "      <td>transcribed_unprocessed_pseudogene</td>\n",
       "      <td>transcribed_unprocessed_pseudogene</td>\n",
       "      <td>chr1:12697:12974:+</td>\n",
       "    </tr>\n",
       "    <tr>\n",
       "      <th>1</th>\n",
       "      <td>chr1</td>\n",
       "      <td>12721</td>\n",
       "      <td>13220</td>\n",
       "      <td>2</td>\n",
       "      <td>+</td>\n",
       "      <td>intron</td>\n",
       "      <td>ENSG00000290825.1</td>\n",
       "      <td>ENST00000456328.2</td>\n",
       "      <td>DDX11L2</td>\n",
       "      <td>lncRNA</td>\n",
       "      <td>lncRNA</td>\n",
       "      <td>chr1:12721:13220:+</td>\n",
       "    </tr>\n",
       "    <tr>\n",
       "      <th>5</th>\n",
       "      <td>chr1</td>\n",
       "      <td>13052</td>\n",
       "      <td>13220</td>\n",
       "      <td>4</td>\n",
       "      <td>+</td>\n",
       "      <td>intron</td>\n",
       "      <td>ENSG00000223972.6</td>\n",
       "      <td>ENST00000450305.2</td>\n",
       "      <td>DDX11L1</td>\n",
       "      <td>transcribed_unprocessed_pseudogene</td>\n",
       "      <td>transcribed_unprocessed_pseudogene</td>\n",
       "      <td>chr1:13052:13220:+</td>\n",
       "    </tr>\n",
       "    <tr>\n",
       "      <th>6</th>\n",
       "      <td>chr1</td>\n",
       "      <td>13374</td>\n",
       "      <td>13452</td>\n",
       "      <td>5</td>\n",
       "      <td>+</td>\n",
       "      <td>intron</td>\n",
       "      <td>ENSG00000223972.6</td>\n",
       "      <td>ENST00000450305.2</td>\n",
       "      <td>DDX11L1</td>\n",
       "      <td>transcribed_unprocessed_pseudogene</td>\n",
       "      <td>transcribed_unprocessed_pseudogene</td>\n",
       "      <td>chr1:13374:13452:+</td>\n",
       "    </tr>\n",
       "    <tr>\n",
       "      <th>7</th>\n",
       "      <td>chr1</td>\n",
       "      <td>14501</td>\n",
       "      <td>15004</td>\n",
       "      <td>10</td>\n",
       "      <td>-</td>\n",
       "      <td>intron</td>\n",
       "      <td>ENSG00000227232.5</td>\n",
       "      <td>ENST00000488147.1</td>\n",
       "      <td>WASH7P</td>\n",
       "      <td>unprocessed_pseudogene</td>\n",
       "      <td>unprocessed_pseudogene</td>\n",
       "      <td>chr1:14501:15004:-</td>\n",
       "    </tr>\n",
       "    <tr>\n",
       "      <th>8</th>\n",
       "      <td>chr1</td>\n",
       "      <td>15038</td>\n",
       "      <td>15795</td>\n",
       "      <td>9</td>\n",
       "      <td>-</td>\n",
       "      <td>intron</td>\n",
       "      <td>ENSG00000227232.5</td>\n",
       "      <td>ENST00000488147.1</td>\n",
       "      <td>WASH7P</td>\n",
       "      <td>unprocessed_pseudogene</td>\n",
       "      <td>unprocessed_pseudogene</td>\n",
       "      <td>chr1:15038:15795:-</td>\n",
       "    </tr>\n",
       "    <tr>\n",
       "      <th>9</th>\n",
       "      <td>chr1</td>\n",
       "      <td>15947</td>\n",
       "      <td>16606</td>\n",
       "      <td>8</td>\n",
       "      <td>-</td>\n",
       "      <td>intron</td>\n",
       "      <td>ENSG00000227232.5</td>\n",
       "      <td>ENST00000488147.1</td>\n",
       "      <td>WASH7P</td>\n",
       "      <td>unprocessed_pseudogene</td>\n",
       "      <td>unprocessed_pseudogene</td>\n",
       "      <td>chr1:15947:16606:-</td>\n",
       "    </tr>\n",
       "    <tr>\n",
       "      <th>10</th>\n",
       "      <td>chr1</td>\n",
       "      <td>16765</td>\n",
       "      <td>16857</td>\n",
       "      <td>7</td>\n",
       "      <td>-</td>\n",
       "      <td>intron</td>\n",
       "      <td>ENSG00000227232.5</td>\n",
       "      <td>ENST00000488147.1</td>\n",
       "      <td>WASH7P</td>\n",
       "      <td>unprocessed_pseudogene</td>\n",
       "      <td>unprocessed_pseudogene</td>\n",
       "      <td>chr1:16765:16857:-</td>\n",
       "    </tr>\n",
       "    <tr>\n",
       "      <th>11</th>\n",
       "      <td>chr1</td>\n",
       "      <td>17055</td>\n",
       "      <td>17232</td>\n",
       "      <td>6</td>\n",
       "      <td>-</td>\n",
       "      <td>intron</td>\n",
       "      <td>ENSG00000227232.5</td>\n",
       "      <td>ENST00000488147.1</td>\n",
       "      <td>WASH7P</td>\n",
       "      <td>unprocessed_pseudogene</td>\n",
       "      <td>unprocessed_pseudogene</td>\n",
       "      <td>chr1:17055:17232:-</td>\n",
       "    </tr>\n",
       "    <tr>\n",
       "      <th>12</th>\n",
       "      <td>chr1</td>\n",
       "      <td>17368</td>\n",
       "      <td>17605</td>\n",
       "      <td>5</td>\n",
       "      <td>-</td>\n",
       "      <td>intron</td>\n",
       "      <td>ENSG00000227232.5</td>\n",
       "      <td>ENST00000488147.1</td>\n",
       "      <td>WASH7P</td>\n",
       "      <td>unprocessed_pseudogene</td>\n",
       "      <td>unprocessed_pseudogene</td>\n",
       "      <td>chr1:17368:17605:-</td>\n",
       "    </tr>\n",
       "    <tr>\n",
       "      <th>13</th>\n",
       "      <td>chr1</td>\n",
       "      <td>17742</td>\n",
       "      <td>17914</td>\n",
       "      <td>4</td>\n",
       "      <td>-</td>\n",
       "      <td>intron</td>\n",
       "      <td>ENSG00000227232.5</td>\n",
       "      <td>ENST00000488147.1</td>\n",
       "      <td>WASH7P</td>\n",
       "      <td>unprocessed_pseudogene</td>\n",
       "      <td>unprocessed_pseudogene</td>\n",
       "      <td>chr1:17742:17914:-</td>\n",
       "    </tr>\n",
       "    <tr>\n",
       "      <th>14</th>\n",
       "      <td>chr1</td>\n",
       "      <td>18061</td>\n",
       "      <td>18267</td>\n",
       "      <td>3</td>\n",
       "      <td>-</td>\n",
       "      <td>intron</td>\n",
       "      <td>ENSG00000227232.5</td>\n",
       "      <td>ENST00000488147.1</td>\n",
       "      <td>WASH7P</td>\n",
       "      <td>unprocessed_pseudogene</td>\n",
       "      <td>unprocessed_pseudogene</td>\n",
       "      <td>chr1:18061:18267:-</td>\n",
       "    </tr>\n",
       "    <tr>\n",
       "      <th>15</th>\n",
       "      <td>chr1</td>\n",
       "      <td>18366</td>\n",
       "      <td>24737</td>\n",
       "      <td>2</td>\n",
       "      <td>-</td>\n",
       "      <td>intron</td>\n",
       "      <td>ENSG00000227232.5</td>\n",
       "      <td>ENST00000488147.1</td>\n",
       "      <td>WASH7P</td>\n",
       "      <td>unprocessed_pseudogene</td>\n",
       "      <td>unprocessed_pseudogene</td>\n",
       "      <td>chr1:18366:24737:-</td>\n",
       "    </tr>\n",
       "  </tbody>\n",
       "</table>\n",
       "</div>"
      ],
      "text/plain": [
       "   chrom  start    end  score strand feature                gid  \\\n",
       "2   chr1  12057  12178      1      +  intron  ENSG00000223972.6   \n",
       "0   chr1  12227  12612      1      +  intron  ENSG00000290825.1   \n",
       "3   chr1  12227  12612      2      +  intron  ENSG00000223972.6   \n",
       "4   chr1  12697  12974      3      +  intron  ENSG00000223972.6   \n",
       "1   chr1  12721  13220      2      +  intron  ENSG00000290825.1   \n",
       "5   chr1  13052  13220      4      +  intron  ENSG00000223972.6   \n",
       "6   chr1  13374  13452      5      +  intron  ENSG00000223972.6   \n",
       "7   chr1  14501  15004     10      -  intron  ENSG00000227232.5   \n",
       "8   chr1  15038  15795      9      -  intron  ENSG00000227232.5   \n",
       "9   chr1  15947  16606      8      -  intron  ENSG00000227232.5   \n",
       "10  chr1  16765  16857      7      -  intron  ENSG00000227232.5   \n",
       "11  chr1  17055  17232      6      -  intron  ENSG00000227232.5   \n",
       "12  chr1  17368  17605      5      -  intron  ENSG00000227232.5   \n",
       "13  chr1  17742  17914      4      -  intron  ENSG00000227232.5   \n",
       "14  chr1  18061  18267      3      -  intron  ENSG00000227232.5   \n",
       "15  chr1  18366  24737      2      -  intron  ENSG00000227232.5   \n",
       "\n",
       "                  tid     gene                           gene_type  \\\n",
       "2   ENST00000450305.2  DDX11L1  transcribed_unprocessed_pseudogene   \n",
       "0   ENST00000456328.2  DDX11L2                              lncRNA   \n",
       "3   ENST00000450305.2  DDX11L1  transcribed_unprocessed_pseudogene   \n",
       "4   ENST00000450305.2  DDX11L1  transcribed_unprocessed_pseudogene   \n",
       "1   ENST00000456328.2  DDX11L2                              lncRNA   \n",
       "5   ENST00000450305.2  DDX11L1  transcribed_unprocessed_pseudogene   \n",
       "6   ENST00000450305.2  DDX11L1  transcribed_unprocessed_pseudogene   \n",
       "7   ENST00000488147.1   WASH7P              unprocessed_pseudogene   \n",
       "8   ENST00000488147.1   WASH7P              unprocessed_pseudogene   \n",
       "9   ENST00000488147.1   WASH7P              unprocessed_pseudogene   \n",
       "10  ENST00000488147.1   WASH7P              unprocessed_pseudogene   \n",
       "11  ENST00000488147.1   WASH7P              unprocessed_pseudogene   \n",
       "12  ENST00000488147.1   WASH7P              unprocessed_pseudogene   \n",
       "13  ENST00000488147.1   WASH7P              unprocessed_pseudogene   \n",
       "14  ENST00000488147.1   WASH7P              unprocessed_pseudogene   \n",
       "15  ENST00000488147.1   WASH7P              unprocessed_pseudogene   \n",
       "\n",
       "                             trpt_type           intron_id  \n",
       "2   transcribed_unprocessed_pseudogene  chr1:12057:12178:+  \n",
       "0                               lncRNA  chr1:12227:12612:+  \n",
       "3   transcribed_unprocessed_pseudogene  chr1:12227:12612:+  \n",
       "4   transcribed_unprocessed_pseudogene  chr1:12697:12974:+  \n",
       "1                               lncRNA  chr1:12721:13220:+  \n",
       "5   transcribed_unprocessed_pseudogene  chr1:13052:13220:+  \n",
       "6   transcribed_unprocessed_pseudogene  chr1:13374:13452:+  \n",
       "7               unprocessed_pseudogene  chr1:14501:15004:-  \n",
       "8               unprocessed_pseudogene  chr1:15038:15795:-  \n",
       "9               unprocessed_pseudogene  chr1:15947:16606:-  \n",
       "10              unprocessed_pseudogene  chr1:16765:16857:-  \n",
       "11              unprocessed_pseudogene  chr1:17055:17232:-  \n",
       "12              unprocessed_pseudogene  chr1:17368:17605:-  \n",
       "13              unprocessed_pseudogene  chr1:17742:17914:-  \n",
       "14              unprocessed_pseudogene  chr1:18061:18267:-  \n",
       "15              unprocessed_pseudogene  chr1:18366:24737:-  "
      ]
     },
     "execution_count": 54,
     "metadata": {},
     "output_type": "execute_result"
    }
   ],
   "source": [
    "d_test.sort_values('intron_id')"
   ]
  },
  {
   "cell_type": "code",
   "execution_count": 53,
   "id": "3bd2c43c-5a2e-4bd9-8738-3d0564f03a2d",
   "metadata": {},
   "outputs": [
    {
     "data": {
      "text/html": [
       "<div>\n",
       "<style scoped>\n",
       "    .dataframe tbody tr th:only-of-type {\n",
       "        vertical-align: middle;\n",
       "    }\n",
       "\n",
       "    .dataframe tbody tr th {\n",
       "        vertical-align: top;\n",
       "    }\n",
       "\n",
       "    .dataframe thead th {\n",
       "        text-align: right;\n",
       "    }\n",
       "</style>\n",
       "<table border=\"1\" class=\"dataframe\">\n",
       "  <thead>\n",
       "    <tr style=\"text-align: right;\">\n",
       "      <th></th>\n",
       "      <th>tid</th>\n",
       "      <th>trpt_type</th>\n",
       "    </tr>\n",
       "    <tr>\n",
       "      <th>intron_id</th>\n",
       "      <th></th>\n",
       "      <th></th>\n",
       "    </tr>\n",
       "  </thead>\n",
       "  <tbody>\n",
       "    <tr>\n",
       "      <th>chr1:12057:12178:+</th>\n",
       "      <td>1</td>\n",
       "      <td>1</td>\n",
       "    </tr>\n",
       "    <tr>\n",
       "      <th>chr1:12227:12612:+</th>\n",
       "      <td>2</td>\n",
       "      <td>2</td>\n",
       "    </tr>\n",
       "    <tr>\n",
       "      <th>chr1:12697:12974:+</th>\n",
       "      <td>1</td>\n",
       "      <td>1</td>\n",
       "    </tr>\n",
       "    <tr>\n",
       "      <th>chr1:12721:13220:+</th>\n",
       "      <td>1</td>\n",
       "      <td>1</td>\n",
       "    </tr>\n",
       "    <tr>\n",
       "      <th>chr1:13052:13220:+</th>\n",
       "      <td>1</td>\n",
       "      <td>1</td>\n",
       "    </tr>\n",
       "    <tr>\n",
       "      <th>chr1:13374:13452:+</th>\n",
       "      <td>1</td>\n",
       "      <td>1</td>\n",
       "    </tr>\n",
       "    <tr>\n",
       "      <th>chr1:14501:15004:-</th>\n",
       "      <td>1</td>\n",
       "      <td>1</td>\n",
       "    </tr>\n",
       "    <tr>\n",
       "      <th>chr1:15038:15795:-</th>\n",
       "      <td>1</td>\n",
       "      <td>1</td>\n",
       "    </tr>\n",
       "    <tr>\n",
       "      <th>chr1:15947:16606:-</th>\n",
       "      <td>1</td>\n",
       "      <td>1</td>\n",
       "    </tr>\n",
       "    <tr>\n",
       "      <th>chr1:16765:16857:-</th>\n",
       "      <td>1</td>\n",
       "      <td>1</td>\n",
       "    </tr>\n",
       "    <tr>\n",
       "      <th>chr1:17055:17232:-</th>\n",
       "      <td>1</td>\n",
       "      <td>1</td>\n",
       "    </tr>\n",
       "    <tr>\n",
       "      <th>chr1:17368:17605:-</th>\n",
       "      <td>1</td>\n",
       "      <td>1</td>\n",
       "    </tr>\n",
       "    <tr>\n",
       "      <th>chr1:17742:17914:-</th>\n",
       "      <td>1</td>\n",
       "      <td>1</td>\n",
       "    </tr>\n",
       "    <tr>\n",
       "      <th>chr1:18061:18267:-</th>\n",
       "      <td>1</td>\n",
       "      <td>1</td>\n",
       "    </tr>\n",
       "    <tr>\n",
       "      <th>chr1:18366:24737:-</th>\n",
       "      <td>1</td>\n",
       "      <td>1</td>\n",
       "    </tr>\n",
       "  </tbody>\n",
       "</table>\n",
       "</div>"
      ],
      "text/plain": [
       "                    tid  trpt_type\n",
       "intron_id                         \n",
       "chr1:12057:12178:+    1          1\n",
       "chr1:12227:12612:+    2          2\n",
       "chr1:12697:12974:+    1          1\n",
       "chr1:12721:13220:+    1          1\n",
       "chr1:13052:13220:+    1          1\n",
       "chr1:13374:13452:+    1          1\n",
       "chr1:14501:15004:-    1          1\n",
       "chr1:15038:15795:-    1          1\n",
       "chr1:15947:16606:-    1          1\n",
       "chr1:16765:16857:-    1          1\n",
       "chr1:17055:17232:-    1          1\n",
       "chr1:17368:17605:-    1          1\n",
       "chr1:17742:17914:-    1          1\n",
       "chr1:18061:18267:-    1          1\n",
       "chr1:18366:24737:-    1          1"
      ]
     },
     "execution_count": 53,
     "metadata": {},
     "output_type": "execute_result"
    }
   ],
   "source": [
    "d_test.groupby('intron_id')[['tid', 'trpt_type']].nunique()"
   ]
  },
  {
   "cell_type": "code",
   "execution_count": 48,
   "id": "e3043da3-6497-4592-bb35-b036681e2fd0",
   "metadata": {},
   "outputs": [
    {
     "name": "stdout",
     "output_type": "stream",
     "text": [
      "Help on method nunique in module pandas.core.groupby.generic:\n",
      "\n",
      "nunique(dropna: 'bool' = True) -> 'DataFrame' method of pandas.core.groupby.generic.DataFrameGroupBy instance\n",
      "    Return DataFrame with counts of unique elements in each position.\n",
      "    \n",
      "    Parameters\n",
      "    ----------\n",
      "    dropna : bool, default True\n",
      "        Don't include NaN in the counts.\n",
      "    \n",
      "    Returns\n",
      "    -------\n",
      "    nunique: DataFrame\n",
      "    \n",
      "    Examples\n",
      "    --------\n",
      "    >>> df = pd.DataFrame({'id': ['spam', 'egg', 'egg', 'spam',\n",
      "    ...                           'ham', 'ham'],\n",
      "    ...                    'value1': [1, 5, 5, 2, 5, 5],\n",
      "    ...                    'value2': list('abbaxy')})\n",
      "    >>> df\n",
      "         id  value1 value2\n",
      "    0  spam       1      a\n",
      "    1   egg       5      b\n",
      "    2   egg       5      b\n",
      "    3  spam       2      a\n",
      "    4   ham       5      x\n",
      "    5   ham       5      y\n",
      "    \n",
      "    >>> df.groupby('id').nunique()\n",
      "          value1  value2\n",
      "    id\n",
      "    egg        1       1\n",
      "    ham        1       2\n",
      "    spam       2       1\n",
      "    \n",
      "    Check for rows with the same id but conflicting values:\n",
      "    \n",
      "    >>> df.groupby('id').filter(lambda g: (g.nunique() > 1).any())\n",
      "         id  value1 value2\n",
      "    0  spam       1      a\n",
      "    3  spam       2      a\n",
      "    4   ham       5      x\n",
      "    5   ham       5      y\n",
      "\n"
     ]
    }
   ],
   "source": [
    "help(d_test.groupby('intron_id').nunique)"
   ]
  },
  {
   "cell_type": "code",
   "execution_count": null,
   "id": "39f4c2fa-0853-47e7-b9b5-62a8fc000829",
   "metadata": {},
   "outputs": [],
   "source": []
  },
  {
   "cell_type": "code",
   "execution_count": null,
   "id": "05e6fcaa-1ee8-4daf-9278-75f1215f5243",
   "metadata": {},
   "outputs": [],
   "source": []
  },
  {
   "cell_type": "code",
   "execution_count": null,
   "id": "16d3392b-df4c-4a6e-a61b-7046c4e17bec",
   "metadata": {},
   "outputs": [],
   "source": []
  },
  {
   "cell_type": "code",
   "execution_count": null,
   "id": "ed43ba6f-931f-4a6c-8452-4cc3c04433ed",
   "metadata": {},
   "outputs": [],
   "source": []
  },
  {
   "cell_type": "code",
   "execution_count": null,
   "id": "b4c360fa-d4da-454e-86c1-ee577519a555",
   "metadata": {},
   "outputs": [],
   "source": []
  },
  {
   "cell_type": "code",
   "execution_count": null,
   "id": "b60cd583-a983-469c-865c-3d40f0ba3f19",
   "metadata": {},
   "outputs": [],
   "source": []
  },
  {
   "cell_type": "code",
   "execution_count": null,
   "id": "9c898bc8-7bbf-4039-962c-454acbceda86",
   "metadata": {},
   "outputs": [],
   "source": []
  },
  {
   "cell_type": "code",
   "execution_count": null,
   "id": "08dc76b9-e8eb-4d2a-b13a-f3b726f0980c",
   "metadata": {},
   "outputs": [],
   "source": []
  },
  {
   "cell_type": "code",
   "execution_count": null,
   "id": "d9da6834-2440-4fbd-ac8b-6c41f39a7796",
   "metadata": {},
   "outputs": [],
   "source": []
  },
  {
   "cell_type": "code",
   "execution_count": null,
   "id": "f83e510d-c7b0-4a20-b049-24b7ca1d6d83",
   "metadata": {},
   "outputs": [],
   "source": []
  }
 ],
 "metadata": {
  "kernelspec": {
   "display_name": "Python 3 (ipykernel)",
   "language": "python",
   "name": "python3"
  },
  "language_info": {
   "codemirror_mode": {
    "name": "ipython",
    "version": 3
   },
   "file_extension": ".py",
   "mimetype": "text/x-python",
   "name": "python",
   "nbconvert_exporter": "python",
   "pygments_lexer": "ipython3",
   "version": "3.9.7"
  }
 },
 "nbformat": 4,
 "nbformat_minor": 5
}
