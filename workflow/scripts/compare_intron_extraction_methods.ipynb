{
 "cells": [
  {
   "cell_type": "raw",
   "id": "d9c71913-5170-4e0a-a9e5-af9429e5735c",
   "metadata": {},
   "source": [
    "---\n",
    "title: \"Compare intron extractions using leafviz's perl script and gtftk tools\"\n",
    "execute: \n",
    "    warning: false\n",
    "    message: false\n",
    "    echo: false\n",
    "jupyter:\n",
    "    language: python\n",
    "---"
   ]
  },
  {
   "cell_type": "markdown",
   "id": "1561944b-745c-430f-a37b-4873023dd4b5",
   "metadata": {},
   "source": [
    "# Introduction\n",
    "\n",
    "Intron annotation files I used can come from two sources: \n",
    "\n",
    "1. using leafcutter's leafviz/gtf2leafcutter.pl script\n",
    "2. using gtftookits `gtftk` methods\n",
    "\n",
    "See details of extracting annotations from gencode gtf files from either of the\n",
    "two methods in snakefile (~/cdai/annotations/workflow/Snakefile)\n"
   ]
  },
  {
   "cell_type": "markdown",
   "id": "f369bb21-b355-486b-b6e9-acd532ef157a",
   "metadata": {},
   "source": [
    "## Conclusion\n",
    "\n",
    "Leafcutter's `leafviz/gtf2leafcutter.pl` produces non-standard intron coordinates. Even though the produced file is using `.bed`\n",
    "file extension, the file is not in correct BED format!\n",
    "\n",
    "- The start position is in correct BED format. \n",
    "- The end position is WRONG! The reported end value from file is 1 greater than the correct BED formatted end value!\n",
    "\n",
    "**use `gtftk`, do not use `gtf2leafcutter.pl`!**\n"
   ]
  },
  {
   "cell_type": "markdown",
   "id": "62b01427-0a4f-4499-8eaf-dc6e1dbe22bd",
   "metadata": {},
   "source": [
    "## Details \n",
    "\n",
    "see below: ..."
   ]
  },
  {
   "cell_type": "code",
   "execution_count": 14,
   "id": "ec54ebb0-19d9-4a8a-b2d5-8c00ca418f8b",
   "metadata": {},
   "outputs": [],
   "source": [
    "#| label: set-up\n",
    "\n",
    "import os\n",
    "import pandas as pd"
   ]
  },
  {
   "cell_type": "code",
   "execution_count": 16,
   "id": "b1566c88-2e3e-40e0-87d5-db651565df9d",
   "metadata": {},
   "outputs": [
    {
     "data": {
      "text/plain": [
       "'/project2/yangili1/cdai/annotations'"
      ]
     },
     "execution_count": 16,
     "metadata": {},
     "output_type": "execute_result"
    }
   ],
   "source": [
    "os.getcwd()"
   ]
  },
  {
   "cell_type": "code",
   "execution_count": 10,
   "id": "cf21a69e-a007-4038-ba7d-8ddef72be2cb",
   "metadata": {},
   "outputs": [],
   "source": [
    "os.chdir('../../')"
   ]
  },
  {
   "cell_type": "code",
   "execution_count": 18,
   "id": "e034e5bb-d69b-463d-a97c-063e0e1b45c3",
   "metadata": {},
   "outputs": [
    {
     "name": "stdout",
     "output_type": "stream",
     "text": [
      "hg38:\n",
      "total 48M\n",
      "drwxrwsr-x 4 chaodai pi-yangili1 4.0K May 12 14:50 .\n",
      "drwxrwsr-x 6 chaodai pi-yangili1 4.0K May 12 17:57 ..\n",
      "-rw-rw-r-- 1 chaodai pi-yangili1  48M May 12 12:25 gencode.v43.primary_assembly.annotation.gtf.gz\n",
      "drwxrwsr-x 2 chaodai pi-yangili1 4.0K May 12 18:42 use_gtftk\n",
      "drwxrwsr-x 2 chaodai pi-yangili1 4.0K May 12 18:24 use_leafviz\n",
      "\n",
      "hg38/use_gtftk:\n",
      "total 11M\n",
      "drwxrwsr-x 2 chaodai pi-yangili1 4.0K May 12 18:42 .\n",
      "drwxrwsr-x 4 chaodai pi-yangili1 4.0K May 12 14:50 ..\n",
      "-rw-rw-r-- 1 chaodai pi-yangili1 4.7M May 12 18:15 gencode_v43_basic.exons.bed.gz\n",
      "-rw-rw-r-- 1 chaodai pi-yangili1 4.4M May 12 18:19 gencode_v43_basic.intron_by_transcript.bed.gz\n",
      "-rw-rw-r-- 1 chaodai pi-yangili1 1.6M May 12 18:44 gencode_v43_basic.transcript.bed.gz\n",
      "\n",
      "hg38/use_leafviz:\n",
      "total 21M\n",
      "drwxrwsr-x 2 chaodai pi-yangili1 4.0K May 12 18:24 .\n",
      "drwxrwsr-x 4 chaodai pi-yangili1 4.0K May 12 14:50 ..\n",
      "-rw-rw-r-- 1 chaodai pi-yangili1    0 May 12 18:24 done\n",
      "-rw-rw-r-- 1 chaodai pi-yangili1 5.2M May 12 18:24 gencode_v43_all_exons.txt.gz\n",
      "-rw-rw-r-- 1 chaodai pi-yangili1 5.3M May 12 18:24 gencode_v43_all_introns.bed.gz\n",
      "-rw-rw-r-- 1 chaodai pi-yangili1 4.9M May 12 18:24 gencode_v43_fiveprime.bed.gz\n",
      "-rw-rw-r-- 1 chaodai pi-yangili1 4.9M May 12 18:24 gencode_v43_threeprime.bed.gz\n"
     ]
    }
   ],
   "source": [
    "#| include: false\n",
    "\n",
    "!ls -lahR hg38"
   ]
  },
  {
   "cell_type": "markdown",
   "id": "80553d0e-fc74-4f9a-903e-fc0a13c15869",
   "metadata": {},
   "source": [
    "## Introns from gtftk"
   ]
  },
  {
   "cell_type": "code",
   "execution_count": 20,
   "id": "b1d81aa7-2d38-43c3-a97d-04f59b51b64e",
   "metadata": {},
   "outputs": [],
   "source": [
    "intron_gtftk = pd.read_csv('hg38/use_gtftk/gencode_v43_basic.intron_by_transcript.bed.gz', sep='\\t', header=None, \n",
    "                           names=['chrom', 'start', 'end', 'name', 'score', 'strand'])"
   ]
  },
  {
   "cell_type": "code",
   "execution_count": 21,
   "id": "fe03d8de-e17e-40eb-a99f-da86b1d60f3f",
   "metadata": {},
   "outputs": [
    {
     "data": {
      "text/html": [
       "<div>\n",
       "<style scoped>\n",
       "    .dataframe tbody tr th:only-of-type {\n",
       "        vertical-align: middle;\n",
       "    }\n",
       "\n",
       "    .dataframe tbody tr th {\n",
       "        vertical-align: top;\n",
       "    }\n",
       "\n",
       "    .dataframe thead th {\n",
       "        text-align: right;\n",
       "    }\n",
       "</style>\n",
       "<table border=\"1\" class=\"dataframe\">\n",
       "  <thead>\n",
       "    <tr style=\"text-align: right;\">\n",
       "      <th></th>\n",
       "      <th>chrom</th>\n",
       "      <th>start</th>\n",
       "      <th>end</th>\n",
       "      <th>name</th>\n",
       "      <th>score</th>\n",
       "      <th>strand</th>\n",
       "    </tr>\n",
       "  </thead>\n",
       "  <tbody>\n",
       "    <tr>\n",
       "      <th>1</th>\n",
       "      <td>chr1</td>\n",
       "      <td>12721</td>\n",
       "      <td>13220</td>\n",
       "      <td>intron|ENSG00000290825.1|ENST00000456328.2|DDX...</td>\n",
       "      <td>2</td>\n",
       "      <td>+</td>\n",
       "    </tr>\n",
       "  </tbody>\n",
       "</table>\n",
       "</div>"
      ],
      "text/plain": [
       "  chrom  start    end                                               name  \\\n",
       "1  chr1  12721  13220  intron|ENSG00000290825.1|ENST00000456328.2|DDX...   \n",
       "\n",
       "   score strand  \n",
       "1      2      +  "
      ]
     },
     "execution_count": 21,
     "metadata": {},
     "output_type": "execute_result"
    },
    {
     "data": {
      "text/plain": [
       "(486009, 6)"
      ]
     },
     "execution_count": 21,
     "metadata": {},
     "output_type": "execute_result"
    }
   ],
   "source": [
    "intron_gtftk.iloc[1:2]\n",
    "intron_gtftk.shape"
   ]
  },
  {
   "cell_type": "code",
   "execution_count": 22,
   "id": "da9313e8-ced3-4bf1-ada4-410cb9b63ec9",
   "metadata": {},
   "outputs": [],
   "source": [
    "intron_leaf = pd.read_csv('hg38/use_leafviz/gencode_v43_all_introns.bed.gz', sep='\\t', header=None,\n",
    "                         names=['chrom', 'start', 'end', 'gname', 'gid', 'strand', 'tid', 'score', 'gene_type', 'tags'])"
   ]
  },
  {
   "cell_type": "code",
   "execution_count": 23,
   "id": "a02d7da8-521e-4844-b9e9-467d16efab5a",
   "metadata": {},
   "outputs": [
    {
     "data": {
      "text/html": [
       "<div>\n",
       "<style scoped>\n",
       "    .dataframe tbody tr th:only-of-type {\n",
       "        vertical-align: middle;\n",
       "    }\n",
       "\n",
       "    .dataframe tbody tr th {\n",
       "        vertical-align: top;\n",
       "    }\n",
       "\n",
       "    .dataframe thead th {\n",
       "        text-align: right;\n",
       "    }\n",
       "</style>\n",
       "<table border=\"1\" class=\"dataframe\">\n",
       "  <thead>\n",
       "    <tr style=\"text-align: right;\">\n",
       "      <th></th>\n",
       "      <th>chrom</th>\n",
       "      <th>start</th>\n",
       "      <th>end</th>\n",
       "      <th>gname</th>\n",
       "      <th>gid</th>\n",
       "      <th>strand</th>\n",
       "      <th>tid</th>\n",
       "      <th>score</th>\n",
       "      <th>gene_type</th>\n",
       "      <th>tags</th>\n",
       "    </tr>\n",
       "  </thead>\n",
       "  <tbody>\n",
       "    <tr>\n",
       "      <th>1</th>\n",
       "      <td>chrX</td>\n",
       "      <td>100635252</td>\n",
       "      <td>100635558</td>\n",
       "      <td>TSPAN6</td>\n",
       "      <td>ENSG00000000003.15</td>\n",
       "      <td>-</td>\n",
       "      <td>ENST00000373020.9</td>\n",
       "      <td>2</td>\n",
       "      <td>protein_coding</td>\n",
       "      <td>basic|Ensembl_canonical|MANE_Select|appris_pri...</td>\n",
       "    </tr>\n",
       "  </tbody>\n",
       "</table>\n",
       "</div>"
      ],
      "text/plain": [
       "  chrom      start        end   gname                 gid strand  \\\n",
       "1  chrX  100635252  100635558  TSPAN6  ENSG00000000003.15      -   \n",
       "\n",
       "                 tid  score       gene_type  \\\n",
       "1  ENST00000373020.9      2  protein_coding   \n",
       "\n",
       "                                                tags  \n",
       "1  basic|Ensembl_canonical|MANE_Select|appris_pri...  "
      ]
     },
     "execution_count": 23,
     "metadata": {},
     "output_type": "execute_result"
    },
    {
     "data": {
      "text/plain": [
       "(486009, 10)"
      ]
     },
     "execution_count": 23,
     "metadata": {},
     "output_type": "execute_result"
    }
   ],
   "source": [
    "intron_leaf.iloc[1:2,:]\n",
    "intron_leaf.shape"
   ]
  },
  {
   "cell_type": "code",
   "execution_count": 37,
   "id": "d1fee705-8b16-43c6-adca-c279e0332178",
   "metadata": {},
   "outputs": [
    {
     "data": {
      "text/html": [
       "<div>\n",
       "<style scoped>\n",
       "    .dataframe tbody tr th:only-of-type {\n",
       "        vertical-align: middle;\n",
       "    }\n",
       "\n",
       "    .dataframe tbody tr th {\n",
       "        vertical-align: top;\n",
       "    }\n",
       "\n",
       "    .dataframe thead th {\n",
       "        text-align: right;\n",
       "    }\n",
       "</style>\n",
       "<table border=\"1\" class=\"dataframe\">\n",
       "  <thead>\n",
       "    <tr style=\"text-align: right;\">\n",
       "      <th></th>\n",
       "      <th>chrom</th>\n",
       "      <th>start</th>\n",
       "      <th>end</th>\n",
       "      <th>name</th>\n",
       "      <th>score</th>\n",
       "      <th>strand</th>\n",
       "    </tr>\n",
       "  </thead>\n",
       "  <tbody>\n",
       "    <tr>\n",
       "      <th>0</th>\n",
       "      <td>chr1</td>\n",
       "      <td>244051444</td>\n",
       "      <td>244053787</td>\n",
       "      <td>intron|ENSG00000179456.12|ENST00000358704.4|ZB...</td>\n",
       "      <td>1</td>\n",
       "      <td>+</td>\n",
       "    </tr>\n",
       "    <tr>\n",
       "      <th>1</th>\n",
       "      <td>chr1</td>\n",
       "      <td>244048993</td>\n",
       "      <td>244053787</td>\n",
       "      <td>intron|ENSG00000179456.12|ENST00000622512.1|ZB...</td>\n",
       "      <td>1</td>\n",
       "      <td>+</td>\n",
       "    </tr>\n",
       "  </tbody>\n",
       "</table>\n",
       "</div>"
      ],
      "text/plain": [
       "  chrom      start        end  \\\n",
       "0  chr1  244051444  244053787   \n",
       "1  chr1  244048993  244053787   \n",
       "\n",
       "                                                name  score strand  \n",
       "0  intron|ENSG00000179456.12|ENST00000358704.4|ZB...      1      +  \n",
       "1  intron|ENSG00000179456.12|ENST00000622512.1|ZB...      1      +  "
      ]
     },
     "execution_count": 37,
     "metadata": {},
     "output_type": "execute_result"
    }
   ],
   "source": [
    "intron_gtftk[intron_gtftk['name'].str.contains('ZBTB18')].sort_values(['name', 'start']).reset_index(drop=True)"
   ]
  },
  {
   "cell_type": "markdown",
   "id": "b33229b4-99c7-48cc-862d-6850e47472c0",
   "metadata": {},
   "source": [
    "## Introns from leafcutter perl script"
   ]
  },
  {
   "cell_type": "code",
   "execution_count": 38,
   "id": "1fcc3ddd-5b45-4eb5-9201-83c689b6e1e0",
   "metadata": {},
   "outputs": [
    {
     "data": {
      "text/html": [
       "<div>\n",
       "<style scoped>\n",
       "    .dataframe tbody tr th:only-of-type {\n",
       "        vertical-align: middle;\n",
       "    }\n",
       "\n",
       "    .dataframe tbody tr th {\n",
       "        vertical-align: top;\n",
       "    }\n",
       "\n",
       "    .dataframe thead th {\n",
       "        text-align: right;\n",
       "    }\n",
       "</style>\n",
       "<table border=\"1\" class=\"dataframe\">\n",
       "  <thead>\n",
       "    <tr style=\"text-align: right;\">\n",
       "      <th></th>\n",
       "      <th>chrom</th>\n",
       "      <th>start</th>\n",
       "      <th>end</th>\n",
       "      <th>gname</th>\n",
       "      <th>gid</th>\n",
       "      <th>strand</th>\n",
       "      <th>tid</th>\n",
       "      <th>score</th>\n",
       "      <th>gene_type</th>\n",
       "      <th>tags</th>\n",
       "    </tr>\n",
       "  </thead>\n",
       "  <tbody>\n",
       "    <tr>\n",
       "      <th>0</th>\n",
       "      <td>chr1</td>\n",
       "      <td>244051444</td>\n",
       "      <td>244053788</td>\n",
       "      <td>ZBTB18</td>\n",
       "      <td>ENSG00000179456.12</td>\n",
       "      <td>+</td>\n",
       "      <td>ENST00000358704.4</td>\n",
       "      <td>1</td>\n",
       "      <td>protein_coding</td>\n",
       "      <td>basic|Ensembl_canonical|MANE_Select|appris_pri...</td>\n",
       "    </tr>\n",
       "    <tr>\n",
       "      <th>1</th>\n",
       "      <td>chr1</td>\n",
       "      <td>244048993</td>\n",
       "      <td>244053788</td>\n",
       "      <td>ZBTB18</td>\n",
       "      <td>ENSG00000179456.12</td>\n",
       "      <td>+</td>\n",
       "      <td>ENST00000622512.1</td>\n",
       "      <td>1</td>\n",
       "      <td>protein_coding</td>\n",
       "      <td>basic|appris_alternative_1</td>\n",
       "    </tr>\n",
       "  </tbody>\n",
       "</table>\n",
       "</div>"
      ],
      "text/plain": [
       "  chrom      start        end   gname                 gid strand  \\\n",
       "0  chr1  244051444  244053788  ZBTB18  ENSG00000179456.12      +   \n",
       "1  chr1  244048993  244053788  ZBTB18  ENSG00000179456.12      +   \n",
       "\n",
       "                 tid  score       gene_type  \\\n",
       "0  ENST00000358704.4      1  protein_coding   \n",
       "1  ENST00000622512.1      1  protein_coding   \n",
       "\n",
       "                                                tags  \n",
       "0  basic|Ensembl_canonical|MANE_Select|appris_pri...  \n",
       "1                         basic|appris_alternative_1  "
      ]
     },
     "execution_count": 38,
     "metadata": {},
     "output_type": "execute_result"
    }
   ],
   "source": [
    "intron_leaf[intron_leaf.gname.str.contains('ZBTB18')].sort_values(['tid', 'start']).reset_index(drop=True)"
   ]
  },
  {
   "cell_type": "markdown",
   "id": "6cacdb99-8703-4b64-be78-d55f0075dd6c",
   "metadata": {},
   "source": [
    "## Comparison notes: \n",
    "\n",
    "1. Notice for each gene, the number of introns from either method are the same. \n",
    "2. gtftk produced introns follow correct BED format, however, leafcutter produced results do not follow correct BEDformat. \n",
    "    - Specifically, leafcutter produced introns have the **same start coordinate, but an increase by 1 end coordinate**."
   ]
  },
  {
   "cell_type": "markdown",
   "id": "5077278f-7832-462d-bb71-84d0c063c414",
   "metadata": {},
   "source": [
    "## Check gtftk produced intron junctions, along with transcript and exon coordiantes\n",
    "\n",
    "1. example for ZBTB18 shows the intron for transcript 704.4 is from ...444(close) to ...787(open), while first exons ends at ...444(open) and the second\n",
    "exon starts from ...787 (close). \n",
    "2. similarly the second intron is also correct, considering all transcript, exons, and introns are strictly BED format."
   ]
  },
  {
   "cell_type": "code",
   "execution_count": 43,
   "id": "147beb4b-cd85-4206-8173-4d1728ab8162",
   "metadata": {},
   "outputs": [
    {
     "name": "stdout",
     "output_type": "stream",
     "text": [
      "chr1\t244051282\t244057476\tENSG00000179456.12|ENST00000358704.4|ZBTB18|protein_coding\t.\t+\n",
      "chr1\t244048938\t244057472\tENSG00000179456.12|ENST00000622512.1|ZBTB18|protein_coding\t.\t+\n"
     ]
    }
   ],
   "source": [
    "# transcripts\n",
    "!zcat hg38/use_gtftk/gencode_v43_basic.transcript.bed.gz | awk '$4 ~ /ZBTB18/' | sort -k4 -k2"
   ]
  },
  {
   "cell_type": "code",
   "execution_count": 44,
   "id": "3ff076cf-5568-4681-8ded-1f2b2fd47ef2",
   "metadata": {},
   "outputs": [
    {
     "name": "stdout",
     "output_type": "stream",
     "text": [
      "chr1\t244051282\t244051444\tENSG00000179456.12|ENST00000358704.4|ZBTB18|protein_coding\t.\t+\n",
      "chr1\t244053787\t244057476\tENSG00000179456.12|ENST00000358704.4|ZBTB18|protein_coding\t.\t+\n",
      "chr1\t244048938\t244048993\tENSG00000179456.12|ENST00000622512.1|ZBTB18|protein_coding\t.\t+\n",
      "chr1\t244053787\t244057472\tENSG00000179456.12|ENST00000622512.1|ZBTB18|protein_coding\t.\t+\n"
     ]
    }
   ],
   "source": [
    "# exons\n",
    "!zcat hg38/use_gtftk/gencode_v43_basic.exons.bed.gz | awk '$4 ~ /ZBTB18/' | sort -k4 -k2"
   ]
  },
  {
   "cell_type": "code",
   "execution_count": 46,
   "id": "d95af556-bf8b-4bb7-9568-2d7da5f0304a",
   "metadata": {},
   "outputs": [
    {
     "data": {
      "text/html": [
       "<div>\n",
       "<style scoped>\n",
       "    .dataframe tbody tr th:only-of-type {\n",
       "        vertical-align: middle;\n",
       "    }\n",
       "\n",
       "    .dataframe tbody tr th {\n",
       "        vertical-align: top;\n",
       "    }\n",
       "\n",
       "    .dataframe thead th {\n",
       "        text-align: right;\n",
       "    }\n",
       "</style>\n",
       "<table border=\"1\" class=\"dataframe\">\n",
       "  <thead>\n",
       "    <tr style=\"text-align: right;\">\n",
       "      <th></th>\n",
       "      <th>chrom</th>\n",
       "      <th>start</th>\n",
       "      <th>end</th>\n",
       "      <th>name</th>\n",
       "      <th>score</th>\n",
       "      <th>strand</th>\n",
       "    </tr>\n",
       "  </thead>\n",
       "  <tbody>\n",
       "    <tr>\n",
       "      <th>0</th>\n",
       "      <td>chr1</td>\n",
       "      <td>244051444</td>\n",
       "      <td>244053787</td>\n",
       "      <td>intron|ENSG00000179456.12|ENST00000358704.4|ZB...</td>\n",
       "      <td>1</td>\n",
       "      <td>+</td>\n",
       "    </tr>\n",
       "    <tr>\n",
       "      <th>1</th>\n",
       "      <td>chr1</td>\n",
       "      <td>244048993</td>\n",
       "      <td>244053787</td>\n",
       "      <td>intron|ENSG00000179456.12|ENST00000622512.1|ZB...</td>\n",
       "      <td>1</td>\n",
       "      <td>+</td>\n",
       "    </tr>\n",
       "  </tbody>\n",
       "</table>\n",
       "</div>"
      ],
      "text/plain": [
       "  chrom      start        end  \\\n",
       "0  chr1  244051444  244053787   \n",
       "1  chr1  244048993  244053787   \n",
       "\n",
       "                                                name  score strand  \n",
       "0  intron|ENSG00000179456.12|ENST00000358704.4|ZB...      1      +  \n",
       "1  intron|ENSG00000179456.12|ENST00000622512.1|ZB...      1      +  "
      ]
     },
     "execution_count": 46,
     "metadata": {},
     "output_type": "execute_result"
    }
   ],
   "source": [
    "# introns\n",
    "intron_gtftk[intron_gtftk['name'].str.contains('ZBTB18')].sort_values(['name', 'start']).reset_index(drop=True)"
   ]
  },
  {
   "cell_type": "markdown",
   "id": "e2236675-5e87-4f6d-b5da-4b0751baceea",
   "metadata": {},
   "source": [
    "## Check leafcutter produced intron junctions, along with transcript and exon coordiantes\n",
    "\n",
    "1. exons from leafcutter are 1 based both close format (like VCF or gtf)\n",
    "2. introns have non-standard coordinates! (**start is 0 based close, but end is non-standard: end appears to be BED-formatted-end + 1**)"
   ]
  },
  {
   "cell_type": "code",
   "execution_count": 47,
   "id": "9d501253-3f29-4397-9ade-d2f8379fcc66",
   "metadata": {},
   "outputs": [
    {
     "name": "stdout",
     "output_type": "stream",
     "text": [
      "chr1\t244051282\t244057476\tENSG00000179456.12|ENST00000358704.4|ZBTB18|protein_coding\t.\t+\n",
      "chr1\t244048938\t244057472\tENSG00000179456.12|ENST00000622512.1|ZBTB18|protein_coding\t.\t+\n"
     ]
    }
   ],
   "source": [
    "# transcripts\n",
    "# using the same transcript file produced by gtftk\n",
    "!zcat hg38/use_gtftk/gencode_v43_basic.transcript.bed.gz | awk '$4 ~ /ZBTB18/' | sort -k4 -k2"
   ]
  },
  {
   "cell_type": "code",
   "execution_count": 51,
   "id": "bed56bbb-c2f0-42bb-bb9a-df94c544afe0",
   "metadata": {},
   "outputs": [
    {
     "name": "stdout",
     "output_type": "stream",
     "text": [
      "chr1\t244048939\t244048993\t+\tZBTB18\n",
      "chr1\t244053788\t244057472\t+\tZBTB18\n",
      "chr1\t244051283\t244051444\t+\tZBTB18\n",
      "chr1\t244053788\t244057476\t+\tZBTB18\n"
     ]
    }
   ],
   "source": [
    "# exons\n",
    "!zcat hg38/use_leafviz/gencode_v43_all_exons.txt.gz |  awk '$5 ~ /ZBTB18/' "
   ]
  },
  {
   "cell_type": "code",
   "execution_count": 53,
   "id": "8f496e99-514f-4e9a-942f-67a5f6bf92b5",
   "metadata": {},
   "outputs": [
    {
     "name": "stdout",
     "output_type": "stream",
     "text": [
      "chr1\t244051444\t244053788\tZBTB18\tENSG00000179456.12\t+\tENST00000358704.4\t1\tprotein_coding\tbasic|Ensembl_canonical|MANE_Select|appris_principal_4|CCDS\n",
      "chr1\t244048993\t244053788\tZBTB18\tENSG00000179456.12\t+\tENST00000622512.1\t1\tprotein_coding\tbasic|appris_alternative_1\n"
     ]
    }
   ],
   "source": [
    "# introns\n",
    "!zcat hg38/use_leafviz/gencode_v43_all_introns.bed.gz | awk '$4 ~ /ZBTB18/'"
   ]
  }
 ],
 "metadata": {
  "kernelspec": {
   "display_name": "Python 3 (ipykernel)",
   "language": "python",
   "name": "python3"
  },
  "language_info": {
   "codemirror_mode": {
    "name": "ipython",
    "version": 3
   },
   "file_extension": ".py",
   "mimetype": "text/x-python",
   "name": "python",
   "nbconvert_exporter": "python",
   "pygments_lexer": "ipython3",
   "version": "3.9.7"
  }
 },
 "nbformat": 4,
 "nbformat_minor": 5
}
